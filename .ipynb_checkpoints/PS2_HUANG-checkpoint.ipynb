{
 "cells": [
  {
   "cell_type": "code",
   "execution_count": 509,
   "metadata": {},
   "outputs": [],
   "source": [
    "import numpy as np\n",
    "import pandas as pd\n",
    "from scipy.interpolate import interp1d, interp2d\n",
    "from scipy.optimize import minimize_scalar\n",
    "import matplotlib.pyplot as plt\n",
    "%matplotlib inline\n",
    "from quantecon.markov import DiscreteDP\n",
    "from scipy.stats import norm\n",
    "from math import sqrt\n",
    "import matplotlib.pyplot as plt\n",
    "from scipy import optimize\n",
    "from scipy.optimize import brentq"
   ]
  },
  {
   "cell_type": "markdown",
   "metadata": {},
   "source": [
    "First, set up the model specification."
   ]
  },
  {
   "cell_type": "code",
   "execution_count": 535,
   "metadata": {},
   "outputs": [],
   "source": [
    "class CakeEating:\n",
    "    def __init__(self, \n",
    "                 T = 40, \n",
    "                 r = 0.03, \n",
    "                 beta = 0.95, \n",
    "                 gamma = 1.5, \n",
    "                 a0 = 1, \n",
    "                 minCons = 1e-5, \n",
    "                 rho = 0.75, \n",
    "                 sig = 0.25,\n",
    "                 N = 5,\n",
    "                 mu = 0):\n",
    "        self.T, self.r, self.beta, self.gamma, self.a0, self.minCons, self.rho,self.sig, self.N,self.mu = T, r, beta, gamma, a0, minCons, rho, sig, N, mu    \n",
    "        \n",
    "    def Grid(self,y_max,y_min):\n",
    "        T,r,beta,gamma,a0,minCons = self.T,self.r,self.beta,self.gamma,self.a0,self.minCons\n",
    "        \n",
    "        gridMax = np.zeros(T)\n",
    "        gridMax[0] = a0 + y_max\n",
    "        for num in range(T-1):\n",
    "            gridMax[num+1]=gridMax[num]*(1+r)+y_max\n",
    "        \n",
    "        gridMin = np.zeros(T)\n",
    "        for num in range(T):\n",
    "            gridMin[num] = - y_min*(1/(1+r)-(1/(1+r))**(T-num+1))/(1-1/(1+r)) \n",
    "        \n",
    "        loggrid = np.zeros((T,20)) \n",
    "        grid = np.zeros((T,20))\n",
    "        for num in range(T):\n",
    "            span = gridMax[num] - gridMin[num]\n",
    "            loggrid[num,:] = np.linspace((np.log(1)),(np.log(1+span)),20)\n",
    "            grid[num,:] = np.exp(loggrid[num,:]) - 1 + gridMin[num]\n",
    "        \n",
    "        return(grid)\n",
    "    \n",
    "    def Utility(self,c):\n",
    "        self.gamma =gamma\n",
    "        return(c**(1-gamma)/(1-gamma))\n",
    "    \n",
    "    def MU(self,c):\n",
    "        self.gamma = gamma\n",
    "        return(c**(-gamma))\n",
    "    \n",
    "    #generate a transition matrix\n",
    "    def Pi(self):\n",
    "        sig, rho, N,mu = self.sig,self.rho,self.N,self.mu\n",
    "        sig_epsilon = sig/sqrt(1-rho**2)\n",
    "        \n",
    "        #generate grid points epsilon\n",
    "        epsilon = []\n",
    "        epsilon.append(-3*sig_epsilon)\n",
    "        n = list(range(2,N+1))\n",
    "        \n",
    "        for num in n:\n",
    "            epsilon.append(sig_epsilon*norm.ppf((num-1)/N)+mu)\n",
    "\n",
    "        epsilon.append(3*sig_epsilon)  #generate epsilon \n",
    "        \n",
    "        #generate z_i\n",
    "        z=[]\n",
    "        for i in range(0,N):\n",
    "            z.append(N*sig_epsilon*(norm.pdf((epsilon[i]-mu)/sig_epsilon)-norm.pdf((epsilon[i+1]-mu)/sig_epsilon)) + mu)\n",
    "        \n",
    "        #generate transition matrix\n",
    "        Pi = np.zeros(shape=(5,5))\n",
    "        for i in range(0,N):\n",
    "            for j in range(0,N):\n",
    "                Pi[i,j] = norm.cdf((epsilon[j+1]-mu*(1-rho)-rho*(epsilon[i+1]))/sig) - norm.cdf((epsilon[j]-mu*(1-rho)-rho*(epsilon[i+1]))/sig)\n",
    "        \n",
    "        sum = Pi.sum(axis=1)\n",
    "        \n",
    "        #normalize\n",
    "        for i in range(0,N):\n",
    "            for j in range(0,N):\n",
    "                Pi[i,j] = Pi[i,j]/sum[i]  \n",
    "        \n",
    "        \n",
    "        return Pi, z\n",
    "    \n",
    "    #generate states by the transition matrix, return to a vector of states for T periods  \n",
    "    def State(self):\n",
    "        Pi,T,N = self.Pi, self.T,self.N\n",
    "        np.random.seed(123)\n",
    "        state=np.zeros(T)\n",
    "        state[0] = np.random.choice(range(5), 1, replace = True, p=[0.2,0.2,0.2,0.2,0.2])\n",
    "        for t in range(1,T):\n",
    "            p=[]\n",
    "            for j in range(0,N):\n",
    "                p.append(Pi[int(state[t-1]),j])  #int is to convert the float to integer\n",
    "                \n",
    "            state[t] = np.random.choice(range(5),1,replace=True,p=p)\n",
    "        return state\n",
    "    "
   ]
  },
  {
   "cell_type": "markdown",
   "metadata": {},
   "source": [
    "Extract variables and functions which will be used shortly from the model specification."
   ]
  },
  {
   "cell_type": "code",
   "execution_count": 536,
   "metadata": {},
   "outputs": [],
   "source": [
    "model = CakeEating()\n",
    "Pi,z = model.Pi()\n",
    "y = np.exp(z)\n",
    "a_grid = model.Grid(max(y),min(y))\n",
    "MU = model.MU"
   ]
  },
  {
   "cell_type": "code",
   "execution_count": null,
   "metadata": {},
   "outputs": [],
   "source": []
  },
  {
   "cell_type": "code",
   "execution_count": 597,
   "metadata": {},
   "outputs": [],
   "source": [
    "T = model.T\n",
    "N = model.N\n",
    "r,beta, gamma = model.r, model.beta, model.gamma"
   ]
  },
  {
   "cell_type": "code",
   "execution_count": 538,
   "metadata": {},
   "outputs": [],
   "source": [
    "c_matrix = []\n",
    "for j in range(5):\n",
    "    c_matrix.append(a_grid[T-1]+y[j])    "
   ]
  },
  {
   "cell_type": "code",
   "execution_count": 539,
   "metadata": {},
   "outputs": [],
   "source": [
    "v_matrix = []\n",
    "#length is 5, each array has 20 elements. this is for the last period\n",
    "for i in range(5):\n",
    "    v_matrix.append(model.Utility(c_matrix[i]))"
   ]
  },
  {
   "cell_type": "code",
   "execution_count": 540,
   "metadata": {},
   "outputs": [],
   "source": [
    "#generate c and v as three dimensional array, the first dimension is time, the second dimension is a, and the last dimension is income.\n",
    "c = np.zeros((T,20,5))\n",
    "v = np.zeros((T,20,5))\n",
    "for j in range(5):\n",
    "    for i in range(20):\n",
    "        c[T-1,i,j] = c_matrix[j][i] \n",
    "        v[T-1,i,j] = v_matrix[j][i]\n",
    "        \n"
   ]
  },
  {
   "cell_type": "code",
   "execution_count": 541,
   "metadata": {},
   "outputs": [],
   "source": [
    "def ValueFun(c, a, index):\n",
    "    Pi,z = model.Pi()\n",
    "    w = Pi[index]\n",
    "    if c < 1e-5:\n",
    "        c = 1e-5\n",
    "    \n",
    "    value1 = np.zeros(N)\n",
    "    for i in range(N):\n",
    "        value1[i] = v_inter(y[i],(a+y[index]-c)*(1+r))\n",
    "    \n",
    "    #m = v_inter(y, (a+y-c)*(1+r))\n",
    "    #print(m)\n",
    "    value = model.Utility(c) + beta*np.average(value1,weights = w)\n",
    "    return value"
   ]
  },
  {
   "cell_type": "code",
   "execution_count": 542,
   "metadata": {},
   "outputs": [],
   "source": [
    "# find optimial consumption\n",
    "def c_star(a, index, t, lbar,ubar):\n",
    "    #lbar = 1e-10\n",
    "    #ubar = a + y[index] + np.min(y)*(1/(1+r)-(1/(1+r)**(T-t)))/(1-1/(1+r))  #upper bound is to spend all money today the individaul has and borrow what he can return back if he always receives low income\n",
    "    #print(lbar,ubar)\n",
    "    result = minimize_scalar(lambda c: -ValueFun(c, a, index), bounds=(lbar,ubar), method = 'bounded')\n",
    "    c_star = result.x\n",
    "    v_star = -result.fun\n",
    "    #print(c_star)\n",
    "    #v_star = -v_star\n",
    "    return c_star, v_star"
   ]
  },
  {
   "cell_type": "code",
   "execution_count": 496,
   "metadata": {},
   "outputs": [],
   "source": [
    "def Euler(a0,index,a1):\n",
    "    ConsumptionToday = a0 + y[index] - a1/(1+r)\n",
    "    w = Pi[index]\n",
    "    data = np.zeros(5)\n",
    "    for i in range(5):\n",
    "        data[i] = MU2(y[i],a1)\n",
    "    #data = np.concatenate((MU2(y[0],a1),MU2(y[1],a1),MU2(y[2],a1),MU2(y[3],a1),MU2(y[4],a1)),axis = None)\n",
    "    ExpectedMU = np.average(data, weights = w)\n",
    "    Euler = MU(ConsumptionToday) - (1+r)*beta*ExpectedMU\n",
    "    return Euler"
   ]
  },
  {
   "cell_type": "code",
   "execution_count": null,
   "metadata": {},
   "outputs": [],
   "source": []
  },
  {
   "cell_type": "code",
   "execution_count": 500,
   "metadata": {},
   "outputs": [],
   "source": [
    "c_Euler = np.zeros((T,20,5))\n",
    "c_Euler[T-1] = c[T-1]\n",
    "optimal_a = np.zeros((T,20,5))\n",
    "for t in range(T-1):\n",
    "    lb = np.min(a_grid[T-t-1])\n",
    "    yy, aa = np.meshgrid(y, a_grid[T-t-1])\n",
    "    MU2 = interp2d(y,a_grid[T-t-1],MU(c_Euler[T-t-1]))\n",
    "    for i in range(20):\n",
    "        for j in range(5):\n",
    "            ub = (1+r)*(a_grid[T-t-2,i]+y[j]-1e-5) #+max(y)*(1-(1/(1+r))**(T-t))/(1-1/(1+r))\n",
    "            diff = ub - lb\n",
    "            if diff < 1e-5 or Euler(a_grid[T-t-2,i],j,lb) > 0:\n",
    "                optimal_a[T-t-1,i,j] = lb\n",
    "                c_Euler[T-t-2,i,j] = a_grid[T-t-2,i] + y[j] - optimal_a[T-t-1,i,j]/(1+r)\n",
    "            else:\n",
    "                optimal_a[T-t-1,i,j] = optimize.brentq(lambda a1: Euler(a_grid[T-t-2,i],j,a1),lb,ub)\n",
    "                c_Euler[T-t-2,i,j] = a_grid[T-t-2,i] + y[j] - optimal_a[T-t-1,i,j]/(1+r)\n",
    "                if c_Euler[T-t-2,i,j]<0:\n",
    "                    print(t, i, j)\n",
    "                    print(lb, ub*0.99,optimal_a[T-t-1,i,j])\n",
    "                    raise ValueError('your c is negative!!!!')"
   ]
  },
  {
   "cell_type": "code",
   "execution_count": 581,
   "metadata": {},
   "outputs": [
    {
     "data": {
      "text/plain": [
       "<matplotlib.collections.PathCollection at 0x1e468d5b080>"
      ]
     },
     "execution_count": 581,
     "metadata": {},
     "output_type": "execute_result"
    },
    {
     "data": {
      "image/png": "[encoded data removed]",
      "text/plain": [
       "<Figure size 576x360 with 1 Axes>"
      ]
     },
     "metadata": {
      "needs_background": "light"
     },
     "output_type": "display_data"
    }
   ],
   "source": [
    "figure, axes = plt.subplots(figsize=(8,5)) \n",
    "axes.scatter(a_grid[20],c_Euler[20,:,0])\n",
    "axes.scatter(a_grid[20],c_Euler[20,:,4])"
   ]
  },
  {
   "cell_type": "code",
   "execution_count": 543,
   "metadata": {},
   "outputs": [],
   "source": [
    "#y = np.tile(y,20)    # repeat y for 20 times for interpolation\n",
    "for t in range(T-1):\n",
    "    age = T-t-1\n",
    "    grid = a_grid[age]\n",
    "    v_array = v[age]\n",
    "    yy,gg = np.meshgrid(y,grid)\n",
    "    v_inter = interp2d(y,grid,v_array)\n",
    "    for i in range(20):\n",
    "        for j in range(5):\n",
    "            lbar = 1e-10\n",
    "            ubar = a + y[j] + np.min(y)*(1/(1+r)-(1/(1+r)**(T-age+1)))/(1-1/(1+r)) \n",
    "            if lbar > ubar:\n",
    "                c[age-1,i,j], v[age-1,i,j] = 0, -1e10\n",
    "            else:\n",
    "                a = a_grid[age-1][i]\n",
    "                c[age-1,i,j],v[age-1,i,j] = c_star(a, j, age, lbar, ubar)   "
   ]
  },
  {
   "cell_type": "code",
   "execution_count": null,
   "metadata": {},
   "outputs": [],
   "source": []
  },
  {
   "cell_type": "code",
   "execution_count": 551,
   "metadata": {},
   "outputs": [
    {
     "data": {
      "text/plain": [
       "<matplotlib.collections.PathCollection at 0x1e468c49128>"
      ]
     },
     "execution_count": 551,
     "metadata": {},
     "output_type": "execute_result"
    },
    {
     "data": {
      "image/png": "[encoded data removed]",
      "text/plain": [
       "<Figure size 432x288 with 1 Axes>"
      ]
     },
     "metadata": {
      "needs_background": "light"
     },
     "output_type": "display_data"
    }
   ],
   "source": [
    "plt.ylim(-0.5,6)\n",
    "plt.scatter(a_grid[20],c[20,:,4])\n",
    "#plt.scatter(a_grid[20],c[20,:,1])\n",
    "plt.scatter(a_grid[20],c[20,:,0])"
   ]
  },
  {
   "cell_type": "code",
   "execution_count": 622,
   "metadata": {},
   "outputs": [],
   "source": [
    "def Euler_linear(a0,index,a1):\n",
    "    ConsumptionToday = a0 + y[index] - a1/(1+r)\n",
    "    w = Pi[index]\n",
    "    data = np.zeros(5)\n",
    "    for i in range(5):\n",
    "        data[i] = (MU2_linear(y[i],a1))**(-gamma)\n",
    "    #data = np.concatenate((MU2(y[0],a1),MU2(y[1],a1),MU2(y[2],a1),MU2(y[3],a1),MU2(y[4],a1)),axis = None)\n",
    "    ExpectedMU = np.average(data, weights = w)\n",
    "    Euler = MU(ConsumptionToday) - (1+r)*beta*ExpectedMU\n",
    "    return Euler"
   ]
  },
  {
   "cell_type": "code",
   "execution_count": 636,
   "metadata": {},
   "outputs": [],
   "source": [
    "c_Euler_linear = np.zeros((T,20,5))\n",
    "c_Euler_linear[T-1] = c[T-1]\n",
    "optimal_a_linear = np.zeros((T,20,5))\n",
    "gamma = model.gamma\n",
    "for t in range(T-1):\n",
    "    lb = np.min(a_grid[T-t-1])\n",
    "    yy, aa = np.meshgrid(y, a_grid[T-t-1])\n",
    "    MU2_linear = interp2d(y,a_grid[T-t-1],(MU(c_Euler[T-t-1]))**(-1/gamma))\n",
    "    for i in range(20):\n",
    "        for j in range(5):\n",
    "            ub = (1+r)*(a_grid[T-t-2,i]+y[j]-1e-5) #+max(y)*(1-(1/(1+r))**(T-t))/(1-1/(1+r))\n",
    "            diff = ub - lb\n",
    "            if diff < 1e-5 or Euler_linear(a_grid[T-t-2,i],j,lb) > 0:  # if constrained\n",
    "                optimal_a_linear[T-t-1,i,j] = lb\n",
    "                c_Euler_linear[T-t-2,i,j] = a_grid[T-t-2,i] + y[j] - optimal_a_linear[T-t-1,i,j]/(1+r)\n",
    "            else:\n",
    "                optimal_a_linear[T-t-1,i,j] = optimize.brentq(lambda a1: Euler_linear(a_grid[T-t-2,i],j,a1),lb,ub)\n",
    "                c_Euler_linear[T-t-2,i,j] = a_grid[T-t-2,i] + y[j] - optimal_a_linear[T-t-1,i,j]/(1+r)\n",
    "                if c_Euler[T-t-2,i,j]<0:\n",
    "                    print(t, i, j)\n",
    "                    print(lb, ub,optimal_a_linear[T-t-1,i,j])\n",
    "                    raise ValueError('your c is negative!!!!')"
   ]
  },
  {
   "cell_type": "code",
   "execution_count": 637,
   "metadata": {},
   "outputs": [
    {
     "data": {
      "text/plain": [
       "<matplotlib.collections.PathCollection at 0x1e469a7ad30>"
      ]
     },
     "execution_count": 637,
     "metadata": {},
     "output_type": "execute_result"
    },
    {
     "data": {
      "image/png": "[encoded data removed]",
      "text/plain": [
       "<Figure size 576x360 with 1 Axes>"
      ]
     },
     "metadata": {
      "needs_background": "light"
     },
     "output_type": "display_data"
    }
   ],
   "source": [
    "figure, axes = plt.subplots(figsize=(8,5)) \n",
    "#axes.set_xlim (-9,25)\n",
    "axes.scatter(a_grid[20],c_Euler_linear[20,:,0])\n",
    "axes.scatter(a_grid[20],c_Euler_linear[20,:,4])"
   ]
  },
  {
   "cell_type": "code",
   "execution_count": 570,
   "metadata": {},
   "outputs": [],
   "source": [
    "np.random.seed(20200202)\n",
    "num_ind = 100\n",
    "state = np.zeros((num_ind,T))\n",
    "\n",
    "for i in range(num_ind):\n",
    "    state[i,0] = np.random.choice(range(N), 1, replace = True, p=[0.2,0.2,0.2,0.2,0.2])\n",
    "    for t in range(1,T):\n",
    "        p=[]\n",
    "        for j in range(N):\n",
    "            p.append(Pi[int(state[i,t-1]),j])  #int is to convert the float to integer\n",
    "            \n",
    "        state[i,t] = np.random.choice(range(N),1,replace=True,p=p)"
   ]
  },
  {
   "cell_type": "code",
   "execution_count": null,
   "metadata": {},
   "outputs": [],
   "source": []
  },
  {
   "cell_type": "code",
   "execution_count": 642,
   "metadata": {},
   "outputs": [],
   "source": [
    "num_ind = 100\n",
    "cons = np.zeros([num_ind,T])\n",
    "a1 = np.zeros([num_ind,T])\n",
    "y_t = np.zeros([num_ind,T])\n",
    "a0 = model.a0\n",
    "\n",
    "for t in range(T):\n",
    "    a = a_grid[t]\n",
    "    yy, aa = np.meshgrid(y,a)\n",
    "    consumption = interp2d(y,a,c_Euler_linear[t])   \n",
    "    for i in range(num_ind):\n",
    "        index = int(state[i,t])\n",
    "        y_t[i,t] = y[index]\n",
    "        if t == 0:\n",
    "            cons[i,t] = consumption(y_t[i,t],a0)\n",
    "            a1[i,t] = (a0 + y_t[i,t] - cons[i,t])*(1+r)\n",
    "        else:\n",
    "            cons[i,t] = consumption(y_t[i,t],a1[i,t-1])\n",
    "            a1[i,t] = (a1[i,t-1] + y_t[i,t]- cons[i,t])*(1+r)"
   ]
  },
  {
   "cell_type": "code",
   "execution_count": 643,
   "metadata": {},
   "outputs": [],
   "source": [
    "c_mean = np.zeros(T)\n",
    "a_mean = np.zeros(T)\n",
    "for t in range(T):\n",
    "    c_mean[t] = np.average(cons[:,t])\n",
    "    a_mean[t] = np.average(a1[:,t])"
   ]
  },
  {
   "cell_type": "code",
   "execution_count": 644,
   "metadata": {},
   "outputs": [
    {
     "data": {
      "text/plain": [
       "40"
      ]
     },
     "execution_count": 644,
     "metadata": {},
     "output_type": "execute_result"
    }
   ],
   "source": [
    "len(c_mean)"
   ]
  },
  {
   "cell_type": "code",
   "execution_count": 645,
   "metadata": {},
   "outputs": [
    {
     "data": {
      "text/plain": [
       "<matplotlib.collections.PathCollection at 0x1e46abdf588>"
      ]
     },
     "execution_count": 645,
     "metadata": {},
     "output_type": "execute_result"
    },
    {
     "data": {
      "image/png": "[encoded data removed]",
      "text/plain": [
       "<Figure size 576x360 with 1 Axes>"
      ]
     },
     "metadata": {
      "needs_background": "light"
     },
     "output_type": "display_data"
    }
   ],
   "source": [
    "figure, axes = plt.subplots(figsize=(8,5)) \n",
    "axes.scatter(range(T),c_mean)\n",
    "axes.scatter(range(T),a_mean)"
   ]
  },
  {
   "cell_type": "code",
   "execution_count": null,
   "metadata": {},
   "outputs": [],
   "source": []
  },
  {
   "cell_type": "code",
   "execution_count": null,
   "metadata": {},
   "outputs": [],
   "source": []
  },
  {
   "cell_type": "code",
   "execution_count": 646,
   "metadata": {},
   "outputs": [
    {
     "data": {
      "text/plain": [
       "array([-5.76798846e-01, -2.83942701e-01,  9.46781648e-02,  5.84180478e-01,\n",
       "        1.21703655e+00,  2.03522841e+00,  3.09303279e+00,  4.46062168e+00,\n",
       "        6.22871737e+00,  8.51461076e+00,  1.14699421e+01,  1.52907603e+01,\n",
       "        2.02305287e+01,  2.66169385e+01,  3.48736477e+01,  4.55483850e+01,\n",
       "        5.93492846e+01,  7.71918625e+01,  1.00259749e+02,  1.30083208e+02])"
      ]
     },
     "execution_count": 646,
     "metadata": {},
     "output_type": "execute_result"
    }
   ],
   "source": [
    "# Endogenou grid\n",
    "a_grid[T-1]"
   ]
  },
  {
   "cell_type": "code",
   "execution_count": 671,
   "metadata": {},
   "outputs": [],
   "source": [
    "Marginal_Utility = np.zeros([T,20,N])\n",
    "con = np.zeros([T,20,N])\n",
    "asset = np.zeros([T,20,N])\n",
    "for j in range(N):\n",
    "    asset[T-1,:,j] = a_grid[T-1]\n",
    "for i in range(20):\n",
    "    for j in range(N):\n",
    "        Marginal_Utility[T-1,i,j] = MU(a_grid[T-1,i]+y[j])\n",
    "        con[T-1,i,j] = (Marginal_Utility[T-1,i,j])**(-1/gamma)"
   ]
  },
  {
   "cell_type": "code",
   "execution_count": 673,
   "metadata": {},
   "outputs": [],
   "source": [
    "for t in range(T):\n",
    "    age = T-t-2\n",
    "    for i in range(20):\n",
    "        for j in range(N):\n",
    "            w = Pi[j]\n",
    "            data = Marginal_Utility[age+1,i,:]\n",
    "            Marginal_Utility[age,i,j] = (1+r)*beta*np.average(data,weights=w)\n",
    "            con[age,i,j] = Marginal_Utility[age,i,j]**(-1/gamma)\n",
    "            asset[age,i,j] = asset[age+1,i,j]/(1+r)+con[age,i,j]-y[j]\n",
    "            "
   ]
  },
  {
   "cell_type": "code",
   "execution_count": 679,
   "metadata": {},
   "outputs": [
    {
     "data": {
      "text/plain": [
       "<matplotlib.collections.PathCollection at 0x1e46bd107f0>"
      ]
     },
     "execution_count": 679,
     "metadata": {},
     "output_type": "execute_result"
    },
    {
     "data": {
      "image/png": "[encoded data removed]",
      "text/plain": [
       "<Figure size 576x360 with 1 Axes>"
      ]
     },
     "metadata": {
      "needs_background": "light"
     },
     "output_type": "display_data"
    }
   ],
   "source": [
    "figure, axes = plt.subplots(figsize=(8,5)) \n",
    "axes.set_xlim(0,50)\n",
    "axes.set_ylim(0,8)\n",
    "axes.scatter(asset[20,:,0],con[20,:,0])\n",
    "axes.scatter(asset[20,:,4],con[20,:,4])"
   ]
  },
  {
   "cell_type": "code",
   "execution_count": null,
   "metadata": {},
   "outputs": [],
   "source": []
  },
  {
   "cell_type": "code",
   "execution_count": null,
   "metadata": {},
   "outputs": [],
   "source": []
  }
 ],
 "metadata": {
  "kernelspec": {
   "display_name": "Python 3",
   "language": "python",
   "name": "python3"
  },
  "language_info": {
   "codemirror_mode": {
    "name": "ipython",
    "version": 3
   },
   "file_extension": ".py",
   "mimetype": "text/x-python",
   "name": "python",
   "nbconvert_exporter": "python",
   "pygments_lexer": "ipython3",
   "version": "3.7.3"
  }
 },
 "nbformat": 4,
 "nbformat_minor": 4
}
