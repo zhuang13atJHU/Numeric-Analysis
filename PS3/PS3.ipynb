{
 "cells": [
  {
   "cell_type": "markdown",
   "metadata": {},
   "source": [
    "# Problem Set 3 "
   ]
  },
  {
   "cell_type": "markdown",
   "metadata": {},
   "source": [
    "This Problem Set continues the $CakeEating$ model, but with parameters $\\beta$ and $\\gamma$ to be estimated associated with data on 3000 individuals. "
   ]
  },
  {
   "cell_type": "markdown",
   "metadata": {},
   "source": [
    "First, import tools needed."
   ]
  },
  {
   "cell_type": "code",
   "execution_count": 477,
   "metadata": {},
   "outputs": [],
   "source": [
    "import pandas as pd\n",
    "import os\n",
    "import numpy as np\n",
    "import pandas as pd\n",
    "from scipy.interpolate import interp1d, interp2d\n",
    "from scipy.optimize import minimize_scalar,minimize\n",
    "import matplotlib.pyplot as plt\n",
    "%matplotlib inline\n",
    "from quantecon.markov import DiscreteDP\n",
    "from scipy.stats import norm\n",
    "from math import sqrt\n",
    "import matplotlib.pyplot as plt\n",
    "from scipy import optimize\n",
    "from scipy.optimize import brentq\n",
    "import time"
   ]
  },
  {
   "cell_type": "markdown",
   "metadata": {},
   "source": [
    "## Choose auxiliary model and compute weight matrix"
   ]
  },
  {
   "cell_type": "markdown",
   "metadata": {},
   "source": [
    "I choose auxiliary models as 19 moments: mean of consumption at each age and mean of assets at each age. Since there are 10 periods, there should be 20 moments. The first period asset is 0, so I simply exclude it. Thus there are 19 moments in my auxiliary model. <br /> \n",
    "\n",
    "The reason why I choose the first order moments is simple: The utility function is CRRA, which means the preference is homothetic. Each agent has the same homothetic preference, which means their consumption can be aggregated. The economy admits a representative agent, so I can just see the mean of consumption and mean of asset to treat it as a reuslt of a single agent's optimization. "
   ]
  },
  {
   "cell_type": "code",
   "execution_count": 243,
   "metadata": {},
   "outputs": [],
   "source": [
    "df = pd.read_csv('Pset3Data.csv')\n",
    "#df.head()"
   ]
  },
  {
   "cell_type": "markdown",
   "metadata": {},
   "source": [
    "Set initial values based on the data"
   ]
  },
  {
   "cell_type": "code",
   "execution_count": 259,
   "metadata": {},
   "outputs": [],
   "source": [
    "np.random.seed(123456)\n",
    "T = np.max(df.age)\n",
    "N = np.max(df.id) # the number of individuals\n",
    "nb = 100 # the number of draws for bootstrap. "
   ]
  },
  {
   "cell_type": "markdown",
   "metadata": {},
   "source": [
    "Bootstrap to calculate moments: average consumption and average assets."
   ]
  },
  {
   "cell_type": "code",
   "execution_count": 24,
   "metadata": {},
   "outputs": [],
   "source": [
    "c_mean = np.zeros((T, nb))\n",
    "a_mean = np.zeros((T, nb))\n",
    "for k in range(nb):\n",
    "    draw = np.random.choice(N, N, replace = True)\n",
    "    df_draw = df[df.id==draw[0]]\n",
    "    for i in range(1,N):\n",
    "        df_draw = df_draw.append(df[df.id==draw[i]])\n",
    "    for t in range(T):\n",
    "        age = t+1\n",
    "        c_mean[t,k] = df_draw.cons[df_draw.age == age].mean()\n",
    "        a_mean[t,k] = df_draw.asset[df_draw.age == age].mean()"
   ]
  },
  {
   "cell_type": "code",
   "execution_count": 81,
   "metadata": {},
   "outputs": [],
   "source": [
    "bmoments = np.vstack([c_mean,a_mean])   # bmoments now is 20 by 100"
   ]
  },
  {
   "cell_type": "markdown",
   "metadata": {},
   "source": [
    "Compute data moments"
   ]
  },
  {
   "cell_type": "code",
   "execution_count": 478,
   "metadata": {},
   "outputs": [],
   "source": [
    "c_mean_data = np.zeros((T,1))\n",
    "a_mean_data = np.zeros((T,1))\n",
    "for t in range(T):\n",
    "    age = t+1\n",
    "    c_mean_data[t] = df.cons[df.age == age].mean()\n",
    "    a_mean_data[t] = df.asset[df.age == age].mean()"
   ]
  },
  {
   "cell_type": "code",
   "execution_count": 633,
   "metadata": {},
   "outputs": [],
   "source": [
    "data_moments = np.vstack([c_mean_data,a_mean_data]) # data_moments now is 20 by 1 , the first 10  moments is for c, and the remaining is for a."
   ]
  },
  {
   "cell_type": "code",
   "execution_count": 634,
   "metadata": {},
   "outputs": [],
   "source": [
    "# repeat data moments for 100 times.\n",
    "data_moments = np.repeat(data_moments, nb,axis=1)  # data_moments now is 20 by 100"
   ]
  },
  {
   "cell_type": "code",
   "execution_count": 635,
   "metadata": {},
   "outputs": [],
   "source": [
    "dbmoments = np.subtract(bmoments,data_moments)"
   ]
  },
  {
   "cell_type": "code",
   "execution_count": 483,
   "metadata": {},
   "outputs": [],
   "source": [
    "variance = np.mean(dbmoments**2,axis = 1)    # variance is 1 by 20.\n",
    "variance = np.delete(variance,10)"
   ]
  },
  {
   "cell_type": "code",
   "execution_count": 484,
   "metadata": {},
   "outputs": [],
   "source": [
    "dataMomentsVCM = np.identity(2*T-1)"
   ]
  },
  {
   "cell_type": "code",
   "execution_count": 485,
   "metadata": {},
   "outputs": [],
   "source": [
    "np.fill_diagonal(dataMomentsVCM, variance)     # dataMomentsVCM is a matrix of 20 by 20 "
   ]
  },
  {
   "cell_type": "code",
   "execution_count": 486,
   "metadata": {},
   "outputs": [],
   "source": [
    "WeightMatrix = np.linalg.inv(dataMomentsVCM)    # take inverse "
   ]
  },
  {
   "cell_type": "markdown",
   "metadata": {},
   "source": [
    "## Write the model"
   ]
  },
  {
   "cell_type": "markdown",
   "metadata": {},
   "source": [
    "The model is the same as what has been done for the last problem set. "
   ]
  },
  {
   "cell_type": "code",
   "execution_count": 696,
   "metadata": {},
   "outputs": [],
   "source": [
    "class CakeEating:\n",
    "    def __init__(self, \n",
    "                 T = 10, \n",
    "                 r = 0.03,  \n",
    "                 a0 = 0, \n",
    "                 minCons = 1e-5, \n",
    "                 ρ = 0.4, \n",
    "                 σ = 1,\n",
    "                 N_inc = 3,       # number of income grid\n",
    "                 N_grid = 3,   # number of asset grid\n",
    "                 μ = 0):\n",
    "        self.T, self.r, self.a0, self.minCons, self.ρ, self.σ, self.N_inc, self.N_grid, self.μ = T, r, a0, minCons, ρ, σ, N_inc, N_grid,μ    \n",
    "        \n",
    "    def Grid(self,y_max,y_min,N_grid):\n",
    "        T,r,a0,minCons = self.T,self.r,self.a0,self.minCons\n",
    "        \n",
    "        gridMax = np.zeros(T)\n",
    "        gridMax[0] = a0\n",
    "        for num in range(T-1):\n",
    "            gridMax[num+1]=(gridMax[num] + y_max)*(1+r)\n",
    "        \n",
    "        gridMin = np.zeros(T)\n",
    "        gridMin[T-1] = -y_min + minCons\n",
    "        for t in range(T-1):\n",
    "            age = T-t-1\n",
    "            gridMin[age-1] = gridMin[age]/(1+r) - y_min + minCons\n",
    "        #for num in range(T):\n",
    "         #   gridMin[num] = - y_min*(1/(1+r)-(1/(1+r))**(T-num+1))/(1-1/(1+r)) \n",
    "        \n",
    "        loggrid = np.zeros((T,N_grid)) \n",
    "        grid = np.zeros((T,N_grid))\n",
    "        for num in range(T):\n",
    "            span = gridMax[num] - gridMin[num]\n",
    "            loggrid[num,:] = np.linspace((np.log(1)),(np.log(1+span)),N_grid)\n",
    "            grid[num,:] = np.exp(loggrid[num,:]) - 1 + gridMin[num]\n",
    "        \n",
    "        return(grid)\n",
    "    \n",
    "    def Utility(self,c,γ):\n",
    "        return(c**(1-γ)/(1-γ))\n",
    "    \n",
    "    def MU(self,c,γ):\n",
    "        return(c**(-γ))\n",
    "    \n",
    "    #generate a transition matrix\n",
    "    def Pi(self):\n",
    "        σ, ρ, N_inc, μ = self.σ,self.ρ,self.N_inc,self.μ\n",
    "        sig_epsilon = σ/sqrt(1-ρ**2)    # SD of income\n",
    "        \n",
    "        #generate grid points epsilon\n",
    "        epsilon = []\n",
    "        epsilon.append(-3*sig_epsilon)\n",
    "        n = list(range(2,N_inc+1))\n",
    "        \n",
    "        for num in n:\n",
    "            epsilon.append(sig_epsilon*norm.ppf((num-1)/N_inc)+μ)\n",
    "\n",
    "        epsilon.append(3*sig_epsilon)  #generate epsilon \n",
    "        \n",
    "        #generate z_i\n",
    "        z=[]\n",
    "        for i in range(0,N_inc):\n",
    "            z.append(N_inc*sig_epsilon*(norm.pdf((epsilon[i]-μ)/sig_epsilon)-norm.pdf((epsilon[i+1]-μ)/sig_epsilon)) + μ)\n",
    "        \n",
    "        #generate transition matrix\n",
    "        Pi = np.zeros(shape=(N_inc,N_inc))\n",
    "        for i in range(0,N_inc):\n",
    "            for j in range(0,N_inc):\n",
    "                Pi[i,j] = norm.cdf((epsilon[j+1]-μ*(1-ρ)-ρ*(epsilon[i+1]))/σ) - norm.cdf((epsilon[j]-μ*(1-ρ)-ρ*(epsilon[i+1]))/σ)\n",
    "        \n",
    "        sum = Pi.sum(axis=1)\n",
    "        \n",
    "        #normalize\n",
    "        for i in range(0,N_inc):\n",
    "            for j in range(0,N_inc):\n",
    "                Pi[i,j] = Pi[i,j]/sum[i]  \n",
    "        \n",
    "        \n",
    "        return Pi, z\n",
    "    "
   ]
  },
  {
   "cell_type": "code",
   "execution_count": 697,
   "metadata": {},
   "outputs": [],
   "source": [
    "model = CakeEating()\n",
    "Pi,z = model.Pi()\n",
    "y = np.exp(z)\n",
    "T,r,N_inc,N_grid = model.T,model.r,model.N_inc,N_grid\n",
    "a_grid = model.Grid(max(y),min(y),N_grid)\n",
    "MU = model.MU"
   ]
  },
  {
   "cell_type": "code",
   "execution_count": 698,
   "metadata": {},
   "outputs": [],
   "source": [
    "c_matrix = []\n",
    "for j in range(N_grid):\n",
    "    c_matrix.append(a_grid[T-1]+y[j]) \n",
    "c = np.zeros((T,N_grid,N_inc))\n",
    "for j in range(N_inc):\n",
    "    for i in range(N_grid):\n",
    "        c[T-1,i,j] = c_matrix[j][i] "
   ]
  },
  {
   "cell_type": "code",
   "execution_count": 699,
   "metadata": {},
   "outputs": [],
   "source": [
    "def Euler_linear(a0,index,a1,β,γ,f):\n",
    "    ConsumptionToday = a0 + y[index] - a1/(1+r)\n",
    "    w = Pi[index]\n",
    "    data = np.zeros(N_inc)\n",
    "    for i in range(N_inc):\n",
    "        data[i] = (f(y[i],a1))**(-γ)\n",
    "    #data = np.concatenate((MU2(y[0],a1),MU2(y[1],a1),MU2(y[2],a1),MU2(y[3],a1),MU2(y[4],a1)),axis = None)\n",
    "    ExpectedMU = np.average(data, weights = w)\n",
    "    Euler = MU(ConsumptionToday,γ) - (1+r)*β*ExpectedMU\n",
    "    return Euler"
   ]
  },
  {
   "cell_type": "code",
   "execution_count": 700,
   "metadata": {},
   "outputs": [],
   "source": [
    "def Euler_linear_cons(β,γ):\n",
    "    c_Euler_linear = np.zeros((T,N_grid,N_inc))\n",
    "    c_Euler_linear[T-1] = c[T-1]\n",
    "    optimal_a_linear = np.zeros((T,N_grid,N_inc))\n",
    "    for t in range(T-1):\n",
    "        lb = np.min(a_grid[T-t-1])\n",
    "        yy, aa = np.meshgrid(y, a_grid[T-t-1])\n",
    "        MU2_linear = interp2d(y,a_grid[T-t-1],(MU(c_Euler_linear[T-t-1],γ))**(-1/γ))\n",
    "        for i in range(N_grid):\n",
    "            for j in range(N_inc):\n",
    "                ub = (1+r)*(a_grid[T-t-2,i]+y[j]-1e-5) \n",
    "                diff = ub - lb\n",
    "                if diff < 1e-5 or Euler_linear(a_grid[T-t-2,i],j,lb,β,γ,MU2_linear) > 0:  # if constrained\n",
    "                    optimal_a_linear[T-t-1,i,j] = lb\n",
    "                    c_Euler_linear[T-t-2,i,j] = a_grid[T-t-2,i] + y[j] - optimal_a_linear[T-t-1,i,j]/(1+r)\n",
    "                else:\n",
    "                    optimal_a_linear[T-t-1,i,j] = optimize.brentq(lambda a1: Euler_linear(a_grid[T-t-2,i],j,a1,β,γ,MU2_linear),lb,ub)\n",
    "                    c_Euler_linear[T-t-2,i,j] = a_grid[T-t-2,i] + y[j] - optimal_a_linear[T-t-1,i,j]/(1+r)\n",
    "    return(c_Euler_linear)"
   ]
  },
  {
   "cell_type": "markdown",
   "metadata": {},
   "source": [
    "## Estimate unknown structural parameters"
   ]
  },
  {
   "cell_type": "markdown",
   "metadata": {},
   "source": [
    "The objective function is as follows:\n",
    "\\begin{align}\n",
    "\\min_{\\theta} (\\tilde{\\gamma}(\\theta)-\\hat{\\gamma})'\\hat{W}(\\tilde{\\gamma}(\\theta)-\\hat{\\gamma})\n",
    "\\end{align}\n",
    "where $\\theta$ is a vector including $\\beta$ and $\\gamma$, which are parameters we want to estimate; and $\\tilde{\\gamma}$ is the moments from the simulation and $\\hat{\\gamma}$ is the moments calculated from the data."
   ]
  },
  {
   "cell_type": "code",
   "execution_count": 701,
   "metadata": {},
   "outputs": [],
   "source": [
    "def findMomentVec(θ):\n",
    "    \n",
    "    β, γ = θ[0], θ[1]\n",
    "    \n",
    "    c_Euler_linear = Euler_linear_cons(β,γ)\n",
    "    \n",
    "    np.random.seed(123456)\n",
    "    num_ind = 3000\n",
    "    state = np.zeros((num_ind,T))\n",
    "\n",
    "    for i in range(num_ind):\n",
    "        state[i,0] = np.random.choice(range(N_inc), 1, replace = True)\n",
    "        \n",
    "        for t in range(1,T):\n",
    "            p=[]\n",
    "            for j in range(N_inc):\n",
    "                p.append(Pi[int(state[i,t-1]),j])  #int is to convert the float to integer\n",
    "            \n",
    "            state[i,t] = np.random.choice(range(N_inc),1,replace=True,p=p)\n",
    "    \n",
    "    cons = np.zeros([num_ind,T])\n",
    "    a1 = np.zeros([num_ind,T])\n",
    "    y_t = np.zeros([num_ind,T])\n",
    "    a0 = model.a0\n",
    "\n",
    "    for t in range(T):\n",
    "        a = a_grid[t]\n",
    "        yy, aa = np.meshgrid(y,a)\n",
    "        consumption = interp2d(y,a,c_Euler_linear[t])   \n",
    "        for i in range(num_ind):\n",
    "            index = int(state[i,t])\n",
    "            y_t[i,t] = y[index]\n",
    "            if t == 0:\n",
    "                cons[i,t] = consumption(y_t[i,t],a0)\n",
    "                a1[i,t] = (a0 + y_t[i,t] - cons[i,t])*(1+r)\n",
    "            else:\n",
    "                cons[i,t] = consumption(y_t[i,t],a1[i,t-1])\n",
    "                a1[i,t] = (a1[i,t-1] + y_t[i,t]- cons[i,t])*(1+r)\n",
    "    \n",
    "    a_start = np.zeros([num_ind,T])\n",
    "    a_start[:,0]=a0\n",
    "    a_start[:,1:]=a1[:,:-1]\n",
    "    \n",
    "    c_mean = np.zeros(T)\n",
    "    a_mean = np.zeros(T)\n",
    "    for t in range(T):\n",
    "        c_mean[t] = np.average(cons[:,t])\n",
    "        a_mean[t] = np.average(a_start[:,t])\n",
    "        \n",
    "    gamma_hat = np.concatenate((c_mean, a_mean[1:]), axis=None)\n",
    "    data_moments_firstColu = data_moments[:,0]\n",
    "    data_moments_delete = np.delete(data_moments_firstColu,10)\n",
    "    diff = gamma_hat - data_moments_delete\n",
    "    return(diff)"
   ]
  },
  {
   "cell_type": "code",
   "execution_count": 702,
   "metadata": {},
   "outputs": [],
   "source": [
    "def getCriterionFunction(θ):\n",
    "    diff = findMomentVec(θ)\n",
    "    criterionFunction = diff@WeightMatrix@diff.T\n",
    "    return (criterionFunction)"
   ]
  },
  {
   "cell_type": "markdown",
   "metadata": {},
   "source": [
    "Set the initial values and bounds for optimization."
   ]
  },
  {
   "cell_type": "code",
   "execution_count": 703,
   "metadata": {},
   "outputs": [],
   "source": [
    "θ0 = np.array([0.9,1.5])  #set initial value\n",
    "bnd = ((0,1), (1.1,10))    # set bound for beta and gamma\n",
    "oout = minimize(getCriterionFunction,θ0,bounds=bnd)"
   ]
  },
  {
   "cell_type": "code",
   "execution_count": 704,
   "metadata": {},
   "outputs": [
    {
     "data": {
      "text/plain": [
       "      fun: 2408.5417140780346\n",
       " hess_inv: <2x2 LbfgsInvHessProduct with dtype=float64>\n",
       "      jac: array([0.00477485, 0.00027285])\n",
       "  message: b'CONVERGENCE: REL_REDUCTION_OF_F_<=_FACTR*EPSMCH'\n",
       "     nfev: 57\n",
       "      nit: 13\n",
       "   status: 0\n",
       "  success: True\n",
       "        x: array([0.90636098, 6.79831391])"
      ]
     },
     "execution_count": 704,
     "metadata": {},
     "output_type": "execute_result"
    }
   ],
   "source": [
    "oout"
   ]
  },
  {
   "cell_type": "markdown",
   "metadata": {},
   "source": [
    "Extract the results"
   ]
  },
  {
   "cell_type": "code",
   "execution_count": 706,
   "metadata": {},
   "outputs": [
    {
     "data": {
      "text/plain": [
       "array([0.90636098, 6.79831391])"
      ]
     },
     "execution_count": 706,
     "metadata": {},
     "output_type": "execute_result"
    }
   ],
   "source": [
    "β_star = oout.x[0]\n",
    "γ_star = oout.x[1]\n",
    "θ_star = oout.x\n",
    "θ_star"
   ]
  },
  {
   "cell_type": "markdown",
   "metadata": {},
   "source": [
    "So the estimated $\\hat{\\beta}$ is 0.906 while $\\hat{\\gamma}$ is 6.80."
   ]
  },
  {
   "cell_type": "markdown",
   "metadata": {},
   "source": [
    "## Model fit"
   ]
  },
  {
   "cell_type": "markdown",
   "metadata": {},
   "source": [
    "Plug the estimated parameters into the model. Simulate 3000 individuals and compute the simulated moments."
   ]
  },
  {
   "cell_type": "code",
   "execution_count": 621,
   "metadata": {},
   "outputs": [],
   "source": [
    "c_Euler_linear = Euler_linear_cons(β_star,γ_star)\n",
    "    \n",
    "np.random.seed(123456)\n",
    "num_ind = 3000\n",
    "state = np.zeros((num_ind,T))\n",
    "\n",
    "for i in range(num_ind):\n",
    "    state[i,0] = np.random.choice(range(N_inc), 1, replace = True)\n",
    "        \n",
    "    for t in range(1,T):\n",
    "        p=[]\n",
    "        for j in range(N_inc):\n",
    "            p.append(Pi[int(state[i,t-1]),j])  #int is to convert the float to integer\n",
    "            \n",
    "        state[i,t] = np.random.choice(range(N_inc),1,replace=True,p=p)\n",
    "        \n",
    "a0 = model.a0 \n",
    "cons = np.zeros([num_ind,T])\n",
    "a1 = np.zeros([num_ind,T])\n",
    "y_t = np.zeros([num_ind,T])\n",
    "\n",
    "\n",
    "for t in range(T):\n",
    "    a = a_grid[t]\n",
    "    yy, aa = np.meshgrid(y,a)\n",
    "    consumption = interp2d(y,a,c_Euler_linear[t])   \n",
    "    for i in range(num_ind):\n",
    "        index = int(state[i,t])\n",
    "        y_t[i,t] = y[index]\n",
    "        if t == 0:\n",
    "            cons[i,t] = consumption(y_t[i,t],a0)\n",
    "            a1[i,t] = (a0 + y_t[i,t] - cons[i,t])*(1+r)\n",
    "        else:\n",
    "            cons[i,t] = consumption(y_t[i,t],a1[i,t-1])\n",
    "            a1[i,t] = (a1[i,t-1] + y_t[i,t]- cons[i,t])*(1+r)\n",
    "             \n",
    "            \n",
    "a_start = np.zeros([num_ind,T])\n",
    "a_start[:,0]=a0\n",
    "a_start[:,1:]=a1[:,:-1]\n",
    "c_mean = np.zeros(T)\n",
    "a_mean = np.zeros(T)\n",
    "for t in range(T):\n",
    "    c_mean[t] = np.average(cons[:,t])\n",
    "    a_mean[t] = np.average(a_start[:,t])\n",
    "        "
   ]
  },
  {
   "cell_type": "markdown",
   "metadata": {},
   "source": [
    "Now draw the figure for mean consumption and mean asset, comparing the simulated moments and the data moments. "
   ]
  },
  {
   "cell_type": "code",
   "execution_count": 707,
   "metadata": {},
   "outputs": [
    {
     "data": {
      "text/plain": [
       "<matplotlib.legend.Legend at 0x295db3a5b00>"
      ]
     },
     "execution_count": 707,
     "metadata": {},
     "output_type": "execute_result"
    },
    {
     "data": {
      "image/png": "[encoded data removed]",
      "text/plain": [
       "<Figure size 576x360 with 1 Axes>"
      ]
     },
     "metadata": {
      "needs_background": "light"
     },
     "output_type": "display_data"
    }
   ],
   "source": [
    "figure, axes = plt.subplots(figsize=(8,5)) \n",
    "axes.plot(range(T),c_mean, label='simulated mean consumption',linestyle='dashed', color='pink')\n",
    "axes.plot(range(T),c_mean_data, label='data mean consumption', color='pink')\n",
    "axes.plot(range(T),a_mean, label='simulated mean asset',linestyle='dashed',color='hotpink')\n",
    "axes.plot(range(T),a_mean_data, label='data mean asset',color='hotpink')\n",
    "axes.set_xlabel('Time')\n",
    "axes.set_ylabel('Consumption/Income')\n",
    "axes.set_title('Model Fit')\n",
    "axes.legend()\n"
   ]
  },
  {
   "cell_type": "markdown",
   "metadata": {},
   "source": [
    "## Standard error"
   ]
  },
  {
   "cell_type": "markdown",
   "metadata": {},
   "source": [
    "Now compute the standard errors for estimators. First write Jacobian."
   ]
  },
  {
   "cell_type": "code",
   "execution_count": 623,
   "metadata": {},
   "outputs": [],
   "source": [
    "def Jacobian(g,θ):\n",
    "    row = len(g(θ))\n",
    "    col = len(θ)\n",
    "    J = np.zeros([row, col])\n",
    "    for i in range(len(θ)):\n",
    "        ϵ = np.zeros_like(θ)\n",
    "        ϵ[i] = 0.001*θ[i]\n",
    "        J[:,i] = (g(θ+ϵ)-g(θ))/ϵ[i]\n",
    "    return J\n",
    "        "
   ]
  },
  {
   "cell_type": "code",
   "execution_count": 644,
   "metadata": {},
   "outputs": [],
   "source": [
    "J = Jacobian(findMomentVec,θ_star)"
   ]
  },
  {
   "cell_type": "code",
   "execution_count": 645,
   "metadata": {},
   "outputs": [],
   "source": [
    "S = 1  # number of simulation is 3000, so S=1\n",
    "Σ = (1+1/S)*np.linalg.inv((J.T)@WeightMatrix@J)   "
   ]
  },
  {
   "cell_type": "code",
   "execution_count": 648,
   "metadata": {},
   "outputs": [
    {
     "data": {
      "text/plain": [
       "array([0.11415645, 1.26665745])"
      ]
     },
     "execution_count": 648,
     "metadata": {},
     "output_type": "execute_result"
    }
   ],
   "source": [
    "std = np.sqrt(np.diag(Σ))\n",
    "std"
   ]
  },
  {
   "cell_type": "markdown",
   "metadata": {},
   "source": [
    "Thus the standar error for $\\hat{\\beta}$ is 0.11 and the standard error for $\\hat{\\gamma}$ is 1.27"
   ]
  },
  {
   "cell_type": "markdown",
   "metadata": {},
   "source": [
    "## Sensitivity"
   ]
  },
  {
   "cell_type": "markdown",
   "metadata": {},
   "source": [
    "Apply the AGS formula to compute the sensitivity"
   ]
  },
  {
   "cell_type": "code",
   "execution_count": 627,
   "metadata": {},
   "outputs": [],
   "source": [
    "Sensitivity = -(np.linalg.inv((J.T)@WeightMatrix@J))@(J.T)@WeightMatrix"
   ]
  },
  {
   "cell_type": "code",
   "execution_count": 665,
   "metadata": {},
   "outputs": [
    {
     "data": {
      "text/plain": [
       "<matplotlib.legend.Legend at 0x295d984f390>"
      ]
     },
     "execution_count": 665,
     "metadata": {},
     "output_type": "execute_result"
    },
    {
     "data": {
      "image/png": "[encoded data removed]",
      "text/plain": [
       "<Figure size 576x360 with 1 Axes>"
      ]
     },
     "metadata": {
      "needs_background": "light"
     },
     "output_type": "display_data"
    }
   ],
   "source": [
    "figure, axes = plt.subplots(figsize=(8,5)) \n",
    "axes.plot(range(10),Sensitivity[0,0:10], label='Consumption',linestyle='dashed', color='hotpink',marker='o')\n",
    "axes.plot(range(9),Sensitivity[0,10:],label='Asset',color='pink',marker='o')\n",
    "axes.set_ylabel('Sensitivity')\n",
    "axes.set_title('Discount Factor')\n",
    "axes.legend()"
   ]
  },
  {
   "cell_type": "code",
   "execution_count": 663,
   "metadata": {},
   "outputs": [
    {
     "data": {
      "text/plain": [
       "<matplotlib.legend.Legend at 0x295d97bde80>"
      ]
     },
     "execution_count": 663,
     "metadata": {},
     "output_type": "execute_result"
    },
    {
     "data": {
      "image/png": "[encoded data removed]",
      "text/plain": [
       "<Figure size 576x360 with 1 Axes>"
      ]
     },
     "metadata": {
      "needs_background": "light"
     },
     "output_type": "display_data"
    }
   ],
   "source": [
    "figure, axes = plt.subplots(figsize=(8,5)) \n",
    "axes.plot(range(10),Sensitivity[1,0:10], label='Consumption',linestyle='dashed', color='hotpink',marker='o')\n",
    "axes.plot(range(9),Sensitivity[1,10:],label='Asset',color='pink', marker = 'o')\n",
    "axes.set_ylabel('Sensitivity')\n",
    "axes.set_title('Coefficient of Risk Aversion')\n",
    "axes.legend()"
   ]
  },
  {
   "cell_type": "code",
   "execution_count": null,
   "metadata": {},
   "outputs": [],
   "source": []
  }
 ],
 "metadata": {
  "kernelspec": {
   "display_name": "Python 3",
   "language": "python",
   "name": "python3"
  },
  "language_info": {
   "codemirror_mode": {
    "name": "ipython",
    "version": 3
   },
   "file_extension": ".py",
   "mimetype": "text/x-python",
   "name": "python",
   "nbconvert_exporter": "python",
   "pygments_lexer": "ipython3",
   "version": "3.7.3"
  }
 },
 "nbformat": 4,
 "nbformat_minor": 4
}
