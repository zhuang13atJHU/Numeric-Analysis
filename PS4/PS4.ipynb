{
 "cells": [
  {
   "cell_type": "markdown",
   "metadata": {},
   "source": [
    "# Problem Set 4"
   ]
  },
  {
   "cell_type": "markdown",
   "metadata": {},
   "source": [
    "This problem set touches the problem of assessing the income process. "
   ]
  },
  {
   "cell_type": "markdown",
   "metadata": {},
   "source": [
    "### Question 1. Income Process Moment Equation"
   ]
  },
  {
   "cell_type": "markdown",
   "metadata": {},
   "source": [
    "**(a)** \n",
    "\\begin{align}\n",
    "g_{it} &= \\Delta u_{it} \\\\\n",
    "&= p_{it}+m_{it}-p_{it-1}-m_{it-1}\\\\\n",
    "&=m_{it}-m_{it-1}+\\zeta_{it}\n",
    "\\end{align}\n",
    "\n",
    "Similarly, \n",
    "\\begin{align}\n",
    "g_{it-1} = m_{it-1}-m_{it-2}+\\zeta_{it-1}\n",
    "\\end{align}\n",
    "\n",
    "Therefore, \n",
    "\\begin{align}\n",
    "E(g_{it}g_{it}) = 2\\sigma_m^2 + \\sigma_{\\zeta}^2\n",
    "\\end{align}\n",
    "\n",
    "And,\n",
    "\\begin{align}\n",
    "E(g_{it}g_{it-1}) = -\\sigma_m^2\n",
    "\\end{align}"
   ]
  },
  {
   "cell_type": "markdown",
   "metadata": {},
   "source": [
    "Combining the two moment conditions above, the following can be derived:\n",
    "\\begin{align}\n",
    "\\sigma_\\zeta^2 = E(g_{it}g_{it}) + 2E(g_{it}g_{it-1})\n",
    "\\end{align}\n",
    "\n",
    "And \n",
    "\\begin{align}\n",
    "\\sigma_m^2 = -E(g_{it}g_{it-1})\n",
    "\\end{align}"
   ]
  },
  {
   "cell_type": "markdown",
   "metadata": {},
   "source": [
    "**(b)** \n",
    "We need to derived the following two equations:\n",
    "\\begin{align}\n",
    "E(g_{it}g_{it}|L_{it}=1,L_{it-1}=1) &= 2\\sigma_m^2 + E(\\zeta_{it}^2|L_{it} =1,L_{it-1}=1)\\\\\n",
    "E(g_{it}g_{it-1}|L_{it}=1,L_{it-1}=1) &= -\\sigma_m^2 + E(\\zeta_{it}\\zeta_{it-1}|L_{it}=1,L_{it-1}=1) \\\\\n",
    "\\end{align}\n",
    "\n",
    "We first consider the first equation:\n",
    "\\begin{align}\n",
    "E(g_{it}^2|\\eta_{it}>-x_{it}'\\gamma,\\eta_{it-1}>-x_{it-1}'\\gamma) &= 2\\sigma_m^2 + E(\\zeta_{it}^2|\\eta_{it}>-x_{it}'\\gamma,\\eta_{it-1}>-x_{it-1}'\\gamma)\n",
    "\\end{align}\n"
   ]
  },
  {
   "cell_type": "markdown",
   "metadata": {},
   "source": [
    "We need to compute $E(\\zeta_{it}^2|\\eta_{it}>-x_{it}'\\gamma,\\eta_{it-1}>-x_{it-1}'\\gamma)$ as follows:\n",
    "\\begin{align}\n",
    "E(\\zeta_{it}^2|\\eta_{it}>-x_{it}'\\gamma,\\eta_{it-1}>-x_{it-1}'\\gamma) &= E((cov(\\zeta_{it},\\eta_{it})\\eta_{it})^2+ z^2 + 2\\rho\\sigma_{\\zeta}\\eta z|\\eta_{it}>-x_{it}'\\gamma,\\eta_{it-1}>-x_{it-1}'\\gamma)\n",
    "\\end{align}\n",
    "where z is such that $\\zeta_{it} = cov(\\zeta_{it},\\eta_{it})\\eta_{it}+z$ and $\\sigma_z^2 = \\sigma_{\\zeta}^2(1-\\rho^2)$"
   ]
  },
  {
   "cell_type": "markdown",
   "metadata": {},
   "source": [
    "Therefore, \n",
    "\\begin{align}\n",
    "E(\\zeta_{it}^2|\\eta_{it}>-x_{it}'\\gamma) = \\rho^2\\sigma_{\\zeta}^2\\left(c\\dfrac{\\phi(c)}{1-\\Phi(c)}+1\\right)+\\sigma_{\\zeta}^2(1-\\rho^2)\n",
    "\\end{align}\n",
    "where $c=-x_{it}'\\gamma$\n",
    "\n",
    "And thus **the first moment condition** is:\n",
    "\\begin{align}\n",
    "E(g_{it}^2|\\eta_{it}>-x_{it}'\\gamma,\\eta_{it-1}>-x_{it-1}'\\gamma) &= 2\\sigma_{m}^2 + \\rho^2\\sigma_{\\zeta}^2\\left(c\\dfrac{\\phi(c)}{1-\\Phi(c)}+1\\right)+\\sigma_{\\zeta}^2(1-\\rho^2)\\\\\n",
    "&= 2\\sigma_{m}^2 + \\sigma_{\\zeta\\eta}^2(-x_{it}'\\gamma)\\lambda_{it}+\\sigma_{\\zeta}^2\n",
    "\\end{align}\n",
    "where $\\lambda_{it} = \\dfrac{\\phi(-x_{it}'\\gamma)}{1-\\Phi(-x_{it}'\\gamma)}$"
   ]
  },
  {
   "cell_type": "markdown",
   "metadata": {},
   "source": [
    "And **the second moment condition** is:\n",
    "\\begin{align}\n",
    "E(g_{it}g_{it-1}|\\eta_{it}>-x_{it}'\\gamma,\\eta_{it-1}>-x_{it-1}'\\gamma) = -\\sigma_m^2 + \\sigma_{\\zeta\\eta}^2(\\lambda_{it}\\lambda_{it-1})\n",
    "\\end{align}"
   ]
  },
  {
   "cell_type": "markdown",
   "metadata": {},
   "source": [
    "In addition, **the third moment condition** is about the observables and the model:\n",
    "\\begin{align}\n",
    "E(\\Delta \\log w_{it}|L_{it}=1,L_{it-1}=1) = \\Delta z_{it}'\\beta + \\sigma_{\\zeta\\eta}\\dfrac{\\phi(-x_{it}'\\gamma)}{1-\\Phi(-x_{it}'\\gamma)}\n",
    "\\end{align}"
   ]
  },
  {
   "cell_type": "markdown",
   "metadata": {},
   "source": [
    "### Question 2. Estimate Income Process Using Nonlinear Least Squares"
   ]
  },
  {
   "cell_type": "markdown",
   "metadata": {},
   "source": [
    "First, import all tools needed. "
   ]
  },
  {
   "cell_type": "code",
   "execution_count": 182,
   "metadata": {},
   "outputs": [],
   "source": [
    "import pandas as pd\n",
    "import os\n",
    "import numpy as np\n",
    "import pandas as pd\n",
    "from scipy.interpolate import interp1d, interp2d\n",
    "from scipy.optimize import minimize_scalar,minimize\n",
    "import matplotlib.pyplot as plt\n",
    "%matplotlib inline\n",
    "from quantecon.markov import DiscreteDP\n",
    "from scipy.stats import norm\n",
    "from math import sqrt\n",
    "import matplotlib.pyplot as plt\n",
    "from scipy import optimize\n",
    "from scipy.optimize import brentq\n",
    "import time\n",
    "import statsmodels.api as sm"
   ]
  },
  {
   "cell_type": "code",
   "execution_count": 183,
   "metadata": {},
   "outputs": [],
   "source": [
    "df = pd.read_csv('Pset4Data.csv')"
   ]
  },
  {
   "cell_type": "code",
   "execution_count": 184,
   "metadata": {},
   "outputs": [
    {
     "data": {
      "text/html": [
       "<div>\n",
       "<style scoped>\n",
       "    .dataframe tbody tr th:only-of-type {\n",
       "        vertical-align: middle;\n",
       "    }\n",
       "\n",
       "    .dataframe tbody tr th {\n",
       "        vertical-align: top;\n",
       "    }\n",
       "\n",
       "    .dataframe thead th {\n",
       "        text-align: right;\n",
       "    }\n",
       "</style>\n",
       "<table border=\"1\" class=\"dataframe\">\n",
       "  <thead>\n",
       "    <tr style=\"text-align: right;\">\n",
       "      <th></th>\n",
       "      <th>Unnamed: 0</th>\n",
       "      <th>id</th>\n",
       "      <th>wave</th>\n",
       "      <th>age</th>\n",
       "      <th>noveliv</th>\n",
       "      <th>lninc</th>\n",
       "      <th>work</th>\n",
       "      <th>HighSchool</th>\n",
       "      <th>PostGraduate</th>\n",
       "      <th>SomeCollege</th>\n",
       "    </tr>\n",
       "  </thead>\n",
       "  <tbody>\n",
       "    <tr>\n",
       "      <th>0</th>\n",
       "      <td>1</td>\n",
       "      <td>1</td>\n",
       "      <td>1</td>\n",
       "      <td>31</td>\n",
       "      <td>-0.634240</td>\n",
       "      <td>-5.687436</td>\n",
       "      <td>True</td>\n",
       "      <td>0</td>\n",
       "      <td>0</td>\n",
       "      <td>0</td>\n",
       "    </tr>\n",
       "    <tr>\n",
       "      <th>1</th>\n",
       "      <td>2</td>\n",
       "      <td>2</td>\n",
       "      <td>1</td>\n",
       "      <td>23</td>\n",
       "      <td>1.076020</td>\n",
       "      <td>-1.690294</td>\n",
       "      <td>True</td>\n",
       "      <td>0</td>\n",
       "      <td>0</td>\n",
       "      <td>0</td>\n",
       "    </tr>\n",
       "    <tr>\n",
       "      <th>2</th>\n",
       "      <td>3</td>\n",
       "      <td>3</td>\n",
       "      <td>1</td>\n",
       "      <td>33</td>\n",
       "      <td>0.918417</td>\n",
       "      <td>-8.197371</td>\n",
       "      <td>True</td>\n",
       "      <td>0</td>\n",
       "      <td>1</td>\n",
       "      <td>0</td>\n",
       "    </tr>\n",
       "    <tr>\n",
       "      <th>3</th>\n",
       "      <td>4</td>\n",
       "      <td>4</td>\n",
       "      <td>1</td>\n",
       "      <td>29</td>\n",
       "      <td>0.303140</td>\n",
       "      <td>-5.464115</td>\n",
       "      <td>True</td>\n",
       "      <td>0</td>\n",
       "      <td>0</td>\n",
       "      <td>0</td>\n",
       "    </tr>\n",
       "    <tr>\n",
       "      <th>4</th>\n",
       "      <td>5</td>\n",
       "      <td>5</td>\n",
       "      <td>1</td>\n",
       "      <td>49</td>\n",
       "      <td>0.697175</td>\n",
       "      <td>-28.852108</td>\n",
       "      <td>True</td>\n",
       "      <td>0</td>\n",
       "      <td>1</td>\n",
       "      <td>0</td>\n",
       "    </tr>\n",
       "  </tbody>\n",
       "</table>\n",
       "</div>"
      ],
      "text/plain": [
       "   Unnamed: 0  id  wave  age   noveliv      lninc  work  HighSchool  \\\n",
       "0           1   1     1   31 -0.634240  -5.687436  True           0   \n",
       "1           2   2     1   23  1.076020  -1.690294  True           0   \n",
       "2           3   3     1   33  0.918417  -8.197371  True           0   \n",
       "3           4   4     1   29  0.303140  -5.464115  True           0   \n",
       "4           5   5     1   49  0.697175 -28.852108  True           0   \n",
       "\n",
       "   PostGraduate  SomeCollege  \n",
       "0             0            0  \n",
       "1             0            0  \n",
       "2             1            0  \n",
       "3             0            0  \n",
       "4             1            0  "
      ]
     },
     "execution_count": 184,
     "metadata": {},
     "output_type": "execute_result"
    }
   ],
   "source": [
    "df['educ'] = df['educ'].astype('category')\n",
    "df = pd.get_dummies(df,drop_first = True)\n",
    "df.rename(columns={'educ_High School Graduate':'HighSchool','educ_Postgraduate':'PostGraduate','educ_Some College':'SomeCollege'},inplace=True)\n",
    "df.head()"
   ]
  },
  {
   "cell_type": "code",
   "execution_count": 185,
   "metadata": {},
   "outputs": [
    {
     "name": "stderr",
     "output_type": "stream",
     "text": [
      "C:\\Users\\zhuang13\\Anaconda3\\lib\\site-packages\\numpy\\core\\fromnumeric.py:2389: FutureWarning: Method .ptp is deprecated and will be removed in a future version. Use numpy.ptp instead.\n",
      "  return ptp(axis=axis, out=out, **kwargs)\n"
     ]
    }
   ],
   "source": [
    "df['age2'] = df['age']**2 \n",
    "Labor = df.work\n",
    "π = df[['age','age2','HighSchool','PostGraduate','SomeCollege','noveliv']]\n",
    "π = sm.add_constant(π)"
   ]
  },
  {
   "cell_type": "code",
   "execution_count": 186,
   "metadata": {},
   "outputs": [
    {
     "name": "stdout",
     "output_type": "stream",
     "text": [
      "Optimization terminated successfully.\n",
      "         Current function value: 0.120995\n",
      "         Iterations 13\n"
     ]
    }
   ],
   "source": [
    "probit_model = statsmodels.discrete.discrete_model.Probit(Labor,π.astype(float)).fit()\n",
    "probit_coefficient = probit_model.params\n",
    "df['FittedValue'] = probit_model.fittedvalues"
   ]
  },
  {
   "cell_type": "code",
   "execution_count": 187,
   "metadata": {},
   "outputs": [
    {
     "data": {
      "text/plain": [
       "const          -0.414992\n",
       "age             0.534506\n",
       "age2           -0.011089\n",
       "HighSchool     -0.321881\n",
       "PostGraduate    0.148578\n",
       "SomeCollege    -0.177513\n",
       "noveliv         0.811032\n",
       "dtype: float64"
      ]
     },
     "execution_count": 187,
     "metadata": {},
     "output_type": "execute_result"
    }
   ],
   "source": [
    "probit_coefficient"
   ]
  },
  {
   "cell_type": "code",
   "execution_count": 188,
   "metadata": {},
   "outputs": [],
   "source": [
    "lambda_i = norm.pdf(-df['FittedValue'])/(1-norm.cdf(-df['FittedValue']))"
   ]
  },
  {
   "cell_type": "code",
   "execution_count": 189,
   "metadata": {},
   "outputs": [],
   "source": [
    "df['lambda'] = lambda_i"
   ]
  },
  {
   "cell_type": "code",
   "execution_count": 190,
   "metadata": {},
   "outputs": [],
   "source": [
    "df['lambda_lag'] = df.groupby('id')['lambda'].shift()\n",
    "df['d_income'] = df['lninc'] - df.groupby('id')['lninc'].shift()\n",
    "df['d_age'] = df['age'] - df.groupby('id')['age'].shift()\n",
    "df['d_age2'] = df['age2'] - df.groupby('id')['age2'].shift()"
   ]
  },
  {
   "cell_type": "code",
   "execution_count": null,
   "metadata": {},
   "outputs": [],
   "source": []
  },
  {
   "cell_type": "code",
   "execution_count": 191,
   "metadata": {},
   "outputs": [],
   "source": [
    "Y = df.d_income\n",
    "X = df[['d_age2','lambda']]\n",
    "X = sm.add_constant(X)"
   ]
  },
  {
   "cell_type": "code",
   "execution_count": 192,
   "metadata": {},
   "outputs": [
    {
     "data": {
      "text/plain": [
       "const     0.403554\n",
       "d_age2   -0.020076\n",
       "lambda    0.031588\n",
       "dtype: float64"
      ]
     },
     "execution_count": 192,
     "metadata": {},
     "output_type": "execute_result"
    }
   ],
   "source": [
    "OLS_model = sm.OLS(Y.astype(float),X.astype(float),missing='drop')\n",
    "results = OLS_model.fit()\n",
    "results.params"
   ]
  },
  {
   "cell_type": "code",
   "execution_count": 193,
   "metadata": {},
   "outputs": [],
   "source": [
    "Δu = df['d_income'] - results.params.const - df['d_age2']*results.params.d_age2"
   ]
  },
  {
   "cell_type": "code",
   "execution_count": 194,
   "metadata": {},
   "outputs": [],
   "source": [
    "df['Δu'] = Δu\n",
    "df['lag_Δu'] = df.groupby('id')['Δu'].shift()\n",
    "df['Δu_2'] = df['Δu']**2"
   ]
  },
  {
   "cell_type": "code",
   "execution_count": 195,
   "metadata": {},
   "outputs": [
    {
     "data": {
      "text/plain": [
       "0.03158805983619616"
      ]
     },
     "execution_count": 195,
     "metadata": {},
     "output_type": "execute_result"
    }
   ],
   "source": [
    "cov = results.params['lambda']\n",
    "cov"
   ]
  },
  {
   "cell_type": "code",
   "execution_count": 196,
   "metadata": {},
   "outputs": [
    {
     "data": {
      "text/plain": [
       "0.020966598281527228"
      ]
     },
     "execution_count": 196,
     "metadata": {},
     "output_type": "execute_result"
    }
   ],
   "source": [
    "E_inter = np.mean(df['Δu']*df['lag_Δu'])\n",
    "σ_m2 = cov**2*np.mean(df['lambda']*df['lambda_lag']) - E_inter\n",
    "σ_m2"
   ]
  },
  {
   "cell_type": "code",
   "execution_count": 197,
   "metadata": {},
   "outputs": [
    {
     "data": {
      "text/plain": [
       "0.02629186087496656"
      ]
     },
     "execution_count": 197,
     "metadata": {},
     "output_type": "execute_result"
    }
   ],
   "source": [
    "E_Δu2 = np.mean(df['Δu']**2)\n",
    "σ_ζ2 = E_Δu2 - 2*σ_m2 - cov**2*np.mean(-df['FittedValue']*df['lambda'])\n",
    "σ_ζ2"
   ]
  },
  {
   "cell_type": "code",
   "execution_count": 204,
   "metadata": {},
   "outputs": [],
   "source": []
  },
  {
   "cell_type": "code",
   "execution_count": null,
   "metadata": {},
   "outputs": [],
   "source": [
    "# bootstrap\n",
    "N = 3000\n",
    "nb = 100\n",
    "b_E_inter = np.zeros((nb))\n",
    "b_σ_m2 = np.zeros((nb))\n",
    "b_E_Δu2 = np.zeros((nb))\n",
    "b_ζ2 = np.zeros((nb))\n",
    "for k in range(nb):\n",
    "    draw = np.random.choice(N, N, replace = True)\n",
    "    df_draw = df[df.id==draw[0]]\n",
    "    for i in range(1,N):\n",
    "        df_draw = df_draw.append(df[df.id==draw[i]])\n",
    "        \n",
    "    b_E_inter[k] = np.mean(df_draw['Δu']*df_draw['Δu'])\n",
    "    b_σ_m2[k] = cov**2*np.mean(dr_draw['lambda']*df_draw['lambda']) - b_E_inter[k]\n",
    "    b_E_Δu2[k] = np.mean(df_draw['Δu']**2)\n",
    "    b_ζ2[k] = b_E_Δu2[k] - 2*b_σ_m2[k] - cov**2*np.mean(-df_draw['FittedValue']*df_draw['lambda'])"
   ]
  },
  {
   "cell_type": "code",
   "execution_count": null,
   "metadata": {},
   "outputs": [],
   "source": []
  },
  {
   "cell_type": "code",
   "execution_count": null,
   "metadata": {},
   "outputs": [],
   "source": []
  }
 ],
 "metadata": {
  "kernelspec": {
   "display_name": "Python 3",
   "language": "python",
   "name": "python3"
  },
  "language_info": {
   "codemirror_mode": {
    "name": "ipython",
    "version": 3
   },
   "file_extension": ".py",
   "mimetype": "text/x-python",
   "name": "python",
   "nbconvert_exporter": "python",
   "pygments_lexer": "ipython3",
   "version": "3.7.3"
  }
 },
 "nbformat": 4,
 "nbformat_minor": 4
}
