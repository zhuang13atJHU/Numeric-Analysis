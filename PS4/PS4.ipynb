{
 "cells": [
  {
   "cell_type": "markdown",
   "metadata": {},
   "source": [
    "# Problem Set 4"
   ]
  },
  {
   "cell_type": "markdown",
   "metadata": {},
   "source": [
    "This problem set touches the problem of assessing the income process. "
   ]
  },
  {
   "cell_type": "markdown",
   "metadata": {},
   "source": [
    "### Question 1. Income Process Moment Equation"
   ]
  },
  {
   "cell_type": "markdown",
   "metadata": {},
   "source": [
    "**(a)** \n",
    "\\begin{align}\n",
    "g_{it} &= \\Delta u_{it} \\\\\n",
    "&= p_{it}+m_{it}-p_{it-1}-m_{it-1}\\\\\n",
    "&=m_{it}-m_{it-1}+\\zeta_{it}\n",
    "\\end{align}\n",
    "\n",
    "Similarly, \n",
    "\\begin{align}\n",
    "g_{it-1} = m_{it-1}-m_{it-2}+\\zeta_{it-1}\n",
    "\\end{align}\n",
    "\n",
    "Therefore, \n",
    "\\begin{align}\n",
    "E(g_{it}g_{it}) = 2\\sigma_m^2 + \\sigma_{\\zeta}^2\n",
    "\\end{align}\n",
    "\n",
    "And,\n",
    "\\begin{align}\n",
    "E(g_{it}g_{it-1}) = -\\sigma_m^2\n",
    "\\end{align}"
   ]
  },
  {
   "cell_type": "markdown",
   "metadata": {},
   "source": [
    "Combining the two moment conditions above, the following can be derived:\n",
    "\\begin{align}\n",
    "\\sigma_\\zeta^2 = E(g_{it}g_{it}) + 2E(g_{it}g_{it-1})\n",
    "\\end{align}\n",
    "\n",
    "And \n",
    "\\begin{align}\n",
    "\\sigma_m^2 = -E(g_{it}g_{it-1})\n",
    "\\end{align}"
   ]
  },
  {
   "cell_type": "markdown",
   "metadata": {},
   "source": [
    "**(b)** \n",
    "We need to derived the following two equations:\n",
    "\\begin{align}\n",
    "E(g_{it}g_{it}|L_{it}=1) &= 2\\sigma_m^2 + E(\\zeta_{it}^2|L_{it} =1)\\\\\n",
    "E(g_{it}g_{it-1}|L_{it}=1) &= -\\sigma_m^2 + E(\\zeta_{it}\\zeta_{it-1}|L_{it}=1) \\\\\n",
    "\\end{align}\n",
    "\n",
    "We first consider the first equation:\n",
    "\\begin{align}\n",
    "E(g_{it}^2|\\eta_{it}>-x_{it}'\\gamma) &= 2\\sigma_m^2 + E(\\zeta_{it}^2|\\eta_{it}>-x_{it}'\\gamma)\n",
    "\\end{align}\n"
   ]
  },
  {
   "cell_type": "markdown",
   "metadata": {},
   "source": [
    "We need to compute $E(\\zeta_{it}^2|\\eta_{it}>-x_{it}'\\gamma)$ as follows:\n",
    "\\begin{align}\n",
    "E(\\zeta_{it}^2|\\eta_{it}>-x_{it}'\\gamma) &= E((cov(\\zeta_{it},\\eta_{it})\\eta_{it})^2+ z^2 + 2\\rho\\sigma_{\\zeta}\\eta z|\\eta_{it}>-x_{it}'\\gamma)\n",
    "\\end{align}\n",
    "where z is such that $\\zeta_{it} = cov(\\zeta_{it},\\eta_{it})\\eta_{it}+z$ and $\\sigma_z^2 = \\sigma_{\\zeta}^2(1-\\rho^2)$"
   ]
  },
  {
   "cell_type": "markdown",
   "metadata": {},
   "source": [
    "Therefore, \n",
    "\\begin{align}\n",
    "E(\\zeta_{it}^2|\\eta_{it}>-x_{it}'\\gamma) = \\rho^2\\sigma_{\\zeta}^2\\left(c\\dfrac{\\phi(c)}{1-\\Phi(c)}+1\\right)+\\sigma_{\\zeta}^2(1-\\rho^2)\n",
    "\\end{align}\n",
    "where $c=-x_{it}'\\gamma$\n",
    "\n",
    "And thus **the first moment condition** is:\n",
    "\\begin{align}\n",
    "E(g_{it}^2|\\eta_{it}>-x_{it}'\\gamma) = 2\\sigma_{m}^2 + \\rho^2\\sigma_{\\zeta}^2\\left(c\\dfrac{\\phi(c)}{1-\\Phi(c)}+1\\right)+\\sigma_{\\zeta}^2(1-\\rho^2)\n",
    "\\end{align}"
   ]
  },
  {
   "cell_type": "markdown",
   "metadata": {},
   "source": [
    "And **the second moment condition** is:\n",
    "\\begin{align}\n",
    "E(g_{it}g_{it-1}|\\eta_{it}>-x_{it}'\\gamma) = -\\sigma_m^2\n",
    "\\end{align}"
   ]
  },
  {
   "cell_type": "markdown",
   "metadata": {},
   "source": [
    "### Question 2. Estimate Income Process Using Nonlinear Least Squares"
   ]
  },
  {
   "cell_type": "markdown",
   "metadata": {},
   "source": [
    "First, import all tools needed. "
   ]
  },
  {
   "cell_type": "code",
   "execution_count": 56,
   "metadata": {},
   "outputs": [],
   "source": [
    "import pandas as pd\n",
    "import os\n",
    "import numpy as np\n",
    "import pandas as pd\n",
    "from scipy.interpolate import interp1d, interp2d\n",
    "from scipy.optimize import minimize_scalar,minimize\n",
    "import matplotlib.pyplot as plt\n",
    "%matplotlib inline\n",
    "from quantecon.markov import DiscreteDP\n",
    "from scipy.stats import norm\n",
    "from math import sqrt\n",
    "import matplotlib.pyplot as plt\n",
    "from scipy import optimize\n",
    "from scipy.optimize import brentq\n",
    "import time\n",
    "import statsmodels"
   ]
  },
  {
   "cell_type": "code",
   "execution_count": 57,
   "metadata": {},
   "outputs": [],
   "source": [
    "df = pd.read_csv('Pset4Data.csv')"
   ]
  },
  {
   "cell_type": "code",
   "execution_count": 58,
   "metadata": {},
   "outputs": [
    {
     "data": {
      "text/html": [
       "<div>\n",
       "<style scoped>\n",
       "    .dataframe tbody tr th:only-of-type {\n",
       "        vertical-align: middle;\n",
       "    }\n",
       "\n",
       "    .dataframe tbody tr th {\n",
       "        vertical-align: top;\n",
       "    }\n",
       "\n",
       "    .dataframe thead th {\n",
       "        text-align: right;\n",
       "    }\n",
       "</style>\n",
       "<table border=\"1\" class=\"dataframe\">\n",
       "  <thead>\n",
       "    <tr style=\"text-align: right;\">\n",
       "      <th></th>\n",
       "      <th>Unnamed: 0</th>\n",
       "      <th>id</th>\n",
       "      <th>wave</th>\n",
       "      <th>age</th>\n",
       "      <th>noveliv</th>\n",
       "      <th>lninc</th>\n",
       "      <th>work</th>\n",
       "      <th>educ_High School Graduate</th>\n",
       "      <th>educ_Postgraduate</th>\n",
       "      <th>educ_Some College</th>\n",
       "    </tr>\n",
       "  </thead>\n",
       "  <tbody>\n",
       "    <tr>\n",
       "      <th>0</th>\n",
       "      <td>1</td>\n",
       "      <td>1</td>\n",
       "      <td>1</td>\n",
       "      <td>31</td>\n",
       "      <td>-0.634240</td>\n",
       "      <td>-5.687436</td>\n",
       "      <td>True</td>\n",
       "      <td>0</td>\n",
       "      <td>0</td>\n",
       "      <td>0</td>\n",
       "    </tr>\n",
       "    <tr>\n",
       "      <th>1</th>\n",
       "      <td>2</td>\n",
       "      <td>2</td>\n",
       "      <td>1</td>\n",
       "      <td>23</td>\n",
       "      <td>1.076020</td>\n",
       "      <td>-1.690294</td>\n",
       "      <td>True</td>\n",
       "      <td>0</td>\n",
       "      <td>0</td>\n",
       "      <td>0</td>\n",
       "    </tr>\n",
       "    <tr>\n",
       "      <th>2</th>\n",
       "      <td>3</td>\n",
       "      <td>3</td>\n",
       "      <td>1</td>\n",
       "      <td>33</td>\n",
       "      <td>0.918417</td>\n",
       "      <td>-8.197371</td>\n",
       "      <td>True</td>\n",
       "      <td>0</td>\n",
       "      <td>1</td>\n",
       "      <td>0</td>\n",
       "    </tr>\n",
       "    <tr>\n",
       "      <th>3</th>\n",
       "      <td>4</td>\n",
       "      <td>4</td>\n",
       "      <td>1</td>\n",
       "      <td>29</td>\n",
       "      <td>0.303140</td>\n",
       "      <td>-5.464115</td>\n",
       "      <td>True</td>\n",
       "      <td>0</td>\n",
       "      <td>0</td>\n",
       "      <td>0</td>\n",
       "    </tr>\n",
       "    <tr>\n",
       "      <th>4</th>\n",
       "      <td>5</td>\n",
       "      <td>5</td>\n",
       "      <td>1</td>\n",
       "      <td>49</td>\n",
       "      <td>0.697175</td>\n",
       "      <td>-28.852108</td>\n",
       "      <td>True</td>\n",
       "      <td>0</td>\n",
       "      <td>1</td>\n",
       "      <td>0</td>\n",
       "    </tr>\n",
       "  </tbody>\n",
       "</table>\n",
       "</div>"
      ],
      "text/plain": [
       "   Unnamed: 0  id  wave  age   noveliv      lninc  work  \\\n",
       "0           1   1     1   31 -0.634240  -5.687436  True   \n",
       "1           2   2     1   23  1.076020  -1.690294  True   \n",
       "2           3   3     1   33  0.918417  -8.197371  True   \n",
       "3           4   4     1   29  0.303140  -5.464115  True   \n",
       "4           5   5     1   49  0.697175 -28.852108  True   \n",
       "\n",
       "   educ_High School Graduate  educ_Postgraduate  educ_Some College  \n",
       "0                          0                  0                  0  \n",
       "1                          0                  0                  0  \n",
       "2                          0                  1                  0  \n",
       "3                          0                  0                  0  \n",
       "4                          0                  1                  0  "
      ]
     },
     "execution_count": 58,
     "metadata": {},
     "output_type": "execute_result"
    }
   ],
   "source": [
    "df['educ'] = df['educ'].astype('category')\n",
    "df = pd.get_dummies(df,drop_first = True)\n",
    "df.head()"
   ]
  },
  {
   "cell_type": "code",
   "execution_count": null,
   "metadata": {},
   "outputs": [],
   "source": []
  },
  {
   "cell_type": "code",
   "execution_count": 18,
   "metadata": {},
   "outputs": [],
   "source": []
  },
  {
   "cell_type": "code",
   "execution_count": null,
   "metadata": {},
   "outputs": [],
   "source": [
    "result = statsmodels.discrete.discrete_model.Probit(labf_part, ind_var_probit )"
   ]
  }
 ],
 "metadata": {
  "kernelspec": {
   "display_name": "Python 3",
   "language": "python",
   "name": "python3"
  },
  "language_info": {
   "codemirror_mode": {
    "name": "ipython",
    "version": 3
   },
   "file_extension": ".py",
   "mimetype": "text/x-python",
   "name": "python",
   "nbconvert_exporter": "python",
   "pygments_lexer": "ipython3",
   "version": "3.7.3"
  }
 },
 "nbformat": 4,
 "nbformat_minor": 4
}
