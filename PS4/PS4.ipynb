{
 "cells": [
  {
   "cell_type": "markdown",
   "metadata": {},
   "source": [
    "# Problem Set 4"
   ]
  },
  {
   "cell_type": "markdown",
   "metadata": {},
   "source": [
    "This problem set touches the problem of assessing the income process. "
   ]
  },
  {
   "cell_type": "markdown",
   "metadata": {},
   "source": [
    "### Question 1. Income Process Moment Equation"
   ]
  },
  {
   "cell_type": "markdown",
   "metadata": {},
   "source": [
    "**(a)** \n",
    "\n",
    "\\begin{align}\n",
    "g_{it} &= \\Delta u_{it} \\\\\n",
    "&= p_{it}+m_{it}-p_{it-1}-m_{it-1}\\\\\n",
    "&=m_{it}-m_{it-1}+\\zeta_{it}\n",
    "\\end{align}\n",
    "\n",
    "Similarly, \n",
    "\n",
    "\\begin{align}\n",
    "g_{it-1} = m_{it-1}-m_{it-2}+\\zeta_{it-1}\n",
    "\\end{align}\n",
    "\n",
    "Therefore, \n",
    "\n",
    "\\begin{align}\n",
    "E(g_{it}g_{it}) = 2\\sigma_m^2 + \\sigma_{\\zeta}^2\n",
    "\\end{align}\n",
    "\n",
    "And,\n",
    "\n",
    "\\begin{align}\n",
    "E(g_{it}g_{it-1}) = -\\sigma_m^2\n",
    "\\end{align}"
   ]
  },
  {
   "cell_type": "markdown",
   "metadata": {},
   "source": [
    "Combining the two moment conditions above, the following can be derived:\n",
    "\n",
    "\\begin{align}\n",
    "\\sigma_\\zeta^2 = E(g_{it}g_{it}) + 2E(g_{it}g_{it-1})\n",
    "\\end{align}\n",
    "\n",
    "And \n",
    "\n",
    "\\begin{align}\n",
    "\\sigma_m^2 = -E(g_{it}g_{it-1})\n",
    "\\end{align}"
   ]
  },
  {
   "cell_type": "markdown",
   "metadata": {},
   "source": [
    "**(b)** \n",
    "We need to derived the following two equations:\n",
    "\n",
    "\\begin{align}\n",
    "E(g_{it}g_{it}|L_{it}=1,L_{it-1}=1) &= 2\\sigma_m^2 + E(\\zeta_{it}^2|L_{it} =1,L_{it-1}=1)\\\\\n",
    "E(g_{it}g_{it-1}|L_{it}=1,L_{it-1}=1) &= -\\sigma_m^2 + E(\\zeta_{it}\\zeta_{it-1}|L_{it}=1,L_{it-1}=1) \\\\\n",
    "\\end{align}\n",
    "\n",
    "We first consider the first equation:\n",
    "\n",
    "\\begin{align}\n",
    "E(g_{it}^2|\\eta_{it}>-x_{it}'\\gamma,\\eta_{it-1}>-x_{it-1}'\\gamma) &= 2\\sigma_m^2 + E(\\zeta_{it}^2|\\eta_{it}>-x_{it}'\\gamma,\\eta_{it-1}>-x_{it-1}'\\gamma)\n",
    "\\end{align}\n"
   ]
  },
  {
   "cell_type": "markdown",
   "metadata": {},
   "source": [
    "We need to compute $E(\\zeta_{it}^2|\\eta_{it}>-x_{it}'\\gamma,\\eta_{it-1}>-x_{it-1}'\\gamma)$ as follows:\n",
    "\n",
    "\\begin{align}\n",
    "E(\\zeta_{it}^2|\\eta_{it}>-x_{it}'\\gamma,\\eta_{it-1}>-x_{it-1}'\\gamma) &= E((cov(\\zeta_{it},\\eta_{it})\\eta_{it})^2+ z^2 + 2\\rho\\sigma_{\\zeta}\\eta z|\\eta_{it}>-x_{it}'\\gamma,\\eta_{it-1}>-x_{it-1}'\\gamma)\n",
    "\\end{align}\n",
    "\n",
    "where z is such that $\\zeta_{it} = cov(\\zeta_{it},\\eta_{it})\\eta_{it}+z$ and $\\sigma_z^2 = \\sigma_{\\zeta}^2(1-\\rho^2)$"
   ]
  },
  {
   "cell_type": "markdown",
   "metadata": {},
   "source": [
    "Therefore, \n",
    "\n",
    "\\begin{align}\n",
    "E(\\zeta_{it}^2|\\eta_{it}>-x_{it}'\\gamma) = \\rho^2\\sigma_{\\zeta}^2\\left(c\\dfrac{\\phi(c)}{1-\\Phi(c)}+1\\right)+\\sigma_{\\zeta}^2(1-\\rho^2)\n",
    "\\end{align}\n",
    "\n",
    "where $c=-x_{it}'\\gamma$\n",
    "\n",
    "And thus **the first moment condition** is:\n",
    "\n",
    "\\begin{align}\n",
    "E(g_{it}^2|\\eta_{it}>-x_{it}'\\gamma,\\eta_{it-1}>-x_{it-1}'\\gamma) &= 2\\sigma_{m}^2 + \\rho^2\\sigma_{\\zeta}^2\\left(c\\dfrac{\\phi(c)}{1-\\Phi(c)}+1\\right)+\\sigma_{\\zeta}^2(1-\\rho^2)\\\\\n",
    "&= 2\\sigma_{m}^2 + \\sigma_{\\zeta\\eta}^2(-x_{it}'\\gamma)\\lambda_{it}+\\sigma_{\\zeta}^2\n",
    "\\end{align}\n",
    "\n",
    "where $\\lambda_{it} = \\dfrac{\\phi(-x_{it}'\\gamma)}{1-\\Phi(-x_{it}'\\gamma)}$"
   ]
  },
  {
   "cell_type": "markdown",
   "metadata": {},
   "source": [
    "And **the second moment condition** is:\n",
    "\n",
    "\\begin{align}\n",
    "E(g_{it}g_{it-1}|\\eta_{it}>-x_{it}'\\gamma,\\eta_{it-1}>-x_{it-1}'\\gamma) = -\\sigma_m^2 + \\sigma_{\\zeta\\eta}^2(\\lambda_{it}\\lambda_{it-1})\n",
    "\\end{align}"
   ]
  },
  {
   "cell_type": "markdown",
   "metadata": {},
   "source": [
    "In addition, **the third moment condition** is about the observables and the model:\n",
    "\n",
    "\\begin{align}\n",
    "E(\\Delta \\log w_{it}|L_{it}=1,L_{it-1}=1) = \\Delta z_{it}'\\beta + \\sigma_{\\zeta\\eta}\\dfrac{\\phi(-x_{it}'\\gamma)}{1-\\Phi(-x_{it}'\\gamma)}\n",
    "\\end{align}"
   ]
  },
  {
   "cell_type": "markdown",
   "metadata": {},
   "source": [
    "### Question 2. Estimate Income Process Using Nonlinear Least Squares"
   ]
  },
  {
   "cell_type": "markdown",
   "metadata": {},
   "source": [
    "First, import all tools needed. "
   ]
  },
  {
   "cell_type": "code",
   "execution_count": 245,
   "metadata": {},
   "outputs": [],
   "source": [
    "import pandas as pd\n",
    "import os\n",
    "import numpy as np\n",
    "import pandas as pd\n",
    "from scipy.interpolate import interp1d, interp2d\n",
    "from scipy.optimize import minimize_scalar,minimize\n",
    "import matplotlib.pyplot as plt\n",
    "%matplotlib inline\n",
    "from quantecon.markov import DiscreteDP\n",
    "from scipy.stats import norm\n",
    "from math import sqrt\n",
    "import matplotlib.pyplot as plt\n",
    "from scipy import optimize\n",
    "from scipy.optimize import brentq\n",
    "import time\n",
    "import statsmodels.api as sm"
   ]
  },
  {
   "cell_type": "code",
   "execution_count": 246,
   "metadata": {},
   "outputs": [],
   "source": [
    "df = pd.read_csv('Pset4Data.csv')"
   ]
  },
  {
   "cell_type": "code",
   "execution_count": 247,
   "metadata": {},
   "outputs": [],
   "source": [
    "df['educ'] = df['educ'].astype('category')\n",
    "df = pd.get_dummies(df,drop_first = True)\n",
    "df.rename(columns={'educ_High School Graduate':'HighSchool','educ_Postgraduate':'PostGraduate','educ_Some College':'SomeCollege'},inplace=True)\n"
   ]
  },
  {
   "cell_type": "markdown",
   "metadata": {},
   "source": [
    "#### (a) Estimate the work participation probit regression model"
   ]
  },
  {
   "cell_type": "code",
   "execution_count": 248,
   "metadata": {},
   "outputs": [],
   "source": [
    "df['age2'] = df['age']**2 \n",
    "Labor = df.work\n",
    "π = df[['age','age2','HighSchool','PostGraduate','SomeCollege','noveliv']]\n",
    "π = sm.add_constant(π)"
   ]
  },
  {
   "cell_type": "code",
   "execution_count": 249,
   "metadata": {},
   "outputs": [
    {
     "name": "stdout",
     "output_type": "stream",
     "text": [
      "Optimization terminated successfully.\n",
      "         Current function value: 0.120995\n",
      "         Iterations 13\n"
     ]
    }
   ],
   "source": [
    "probit_model = statsmodels.discrete.discrete_model.Probit(Labor,π.astype(float)).fit()\n",
    "probit_coefficient = probit_model.params\n",
    "df['FittedValue'] = probit_model.fittedvalues"
   ]
  },
  {
   "cell_type": "markdown",
   "metadata": {},
   "source": [
    "Then we can report the coefficients from the probit model."
   ]
  },
  {
   "cell_type": "code",
   "execution_count": 250,
   "metadata": {},
   "outputs": [
    {
     "data": {
      "text/plain": [
       "const          -0.414992\n",
       "age             0.534506\n",
       "age2           -0.011089\n",
       "HighSchool     -0.321881\n",
       "PostGraduate    0.148578\n",
       "SomeCollege    -0.177513\n",
       "noveliv         0.811032\n",
       "dtype: float64"
      ]
     },
     "execution_count": 250,
     "metadata": {},
     "output_type": "execute_result"
    }
   ],
   "source": [
    "probit_coefficient"
   ]
  },
  {
   "cell_type": "code",
   "execution_count": 251,
   "metadata": {},
   "outputs": [],
   "source": [
    "lambda_i = norm.pdf(-df['FittedValue'])/(1-norm.cdf(-df['FittedValue']))"
   ]
  },
  {
   "cell_type": "code",
   "execution_count": 252,
   "metadata": {},
   "outputs": [],
   "source": [
    "df['lambda'] = lambda_i"
   ]
  },
  {
   "cell_type": "code",
   "execution_count": 253,
   "metadata": {},
   "outputs": [],
   "source": [
    "df['lambda_lag'] = df.groupby('id')['lambda'].shift()\n",
    "df['d_income'] = df['lninc'] - df.groupby('id')['lninc'].shift()\n",
    "df['d_age'] = df['age'] - df.groupby('id')['age'].shift()\n",
    "df['d_age2'] = df['age2'] - df.groupby('id')['age2'].shift()"
   ]
  },
  {
   "cell_type": "markdown",
   "metadata": {},
   "source": [
    "#### (b) OLS regression \n",
    "The regression equation to estimate the unexplained income growth is as follows:\n",
    "\n",
    "\\begin{align}\n",
    "\\Delta \\log wage_{it} = \\Delta z_{it}'\\beta + \\sigma_{\\zeta\\eta}\\lambda_{it} + \\Delta \\tilde{u_{it}} \n",
    "\\end{align}\n",
    "\n",
    "where $z_{it}$ is {$Age$, $Age^2$, $i.Educ(categorical)$}.\n",
    "\n",
    "And then the unexplained income growth is following:\n",
    "\n",
    "\\begin{align}\n",
    "\\Delta \\hat{u_{it}} = \\Delta \\log wage_{it} - \\Delta z_{it}'\\hat{\\beta} \n",
    "\\end{align}"
   ]
  },
  {
   "cell_type": "code",
   "execution_count": 254,
   "metadata": {},
   "outputs": [],
   "source": [
    "Y = df.d_income\n",
    "X = df[['d_age2','lambda']]\n",
    "X = sm.add_constant(X)"
   ]
  },
  {
   "cell_type": "code",
   "execution_count": 255,
   "metadata": {},
   "outputs": [
    {
     "data": {
      "text/plain": [
       "const     0.403554\n",
       "d_age2   -0.020076\n",
       "lambda    0.031588\n",
       "dtype: float64"
      ]
     },
     "execution_count": 255,
     "metadata": {},
     "output_type": "execute_result"
    }
   ],
   "source": [
    "OLS_model = sm.OLS(Y.astype(float),X.astype(float),missing='drop')\n",
    "results = OLS_model.fit()\n",
    "results.params"
   ]
  },
  {
   "cell_type": "code",
   "execution_count": 256,
   "metadata": {},
   "outputs": [],
   "source": [
    "Δu = df['d_income'] - results.params.const - df['d_age2']*results.params.d_age2"
   ]
  },
  {
   "cell_type": "code",
   "execution_count": 257,
   "metadata": {},
   "outputs": [],
   "source": [
    "df['Δu'] = Δu\n",
    "df['lag_Δu'] = df.groupby('id')['Δu'].shift()\n",
    "df['Δu_2'] = df['Δu']**2"
   ]
  },
  {
   "cell_type": "markdown",
   "metadata": {},
   "source": [
    "So we can estimate $\\sigma_{\\zeta\\eta}, \\sigma_m^2,\\sigma_\\zeta^2$ as follows:"
   ]
  },
  {
   "cell_type": "code",
   "execution_count": 258,
   "metadata": {},
   "outputs": [
    {
     "name": "stdout",
     "output_type": "stream",
     "text": [
      "σ_ζη is 0.03158805983619616\n"
     ]
    }
   ],
   "source": [
    "cov = results.params['lambda']\n",
    "print('σ_ζη is {}'.format(cov))"
   ]
  },
  {
   "cell_type": "code",
   "execution_count": 259,
   "metadata": {},
   "outputs": [
    {
     "name": "stdout",
     "output_type": "stream",
     "text": [
      "σ_m2 is estimated as 0.020966598281527228\n"
     ]
    }
   ],
   "source": [
    "E_inter = np.mean(df['Δu']*df['lag_Δu'])\n",
    "σ_m2 = cov**2*np.mean(df['lambda']*df['lambda_lag']) - E_inter\n",
    "print('σ_m2 is estimated as {}'.format(σ_m2))"
   ]
  },
  {
   "cell_type": "code",
   "execution_count": 261,
   "metadata": {},
   "outputs": [
    {
     "name": "stdout",
     "output_type": "stream",
     "text": [
      "σ_ζ2 is estimated as 0.02629186087496656\n"
     ]
    }
   ],
   "source": [
    "E_Δu2 = np.mean(df['Δu']**2)\n",
    "σ_ζ2 = E_Δu2 - 2*σ_m2 - cov**2*np.mean(-df['FittedValue']*df['lambda'])\n",
    "print('σ_ζ2 is estimated as {}'.format(σ_ζ2))"
   ]
  },
  {
   "cell_type": "markdown",
   "metadata": {},
   "source": [
    "#### (c) standard error\n",
    "As required, I used 100 times bootstrap to estiamte the standard error for the income process parameters."
   ]
  },
  {
   "cell_type": "code",
   "execution_count": 218,
   "metadata": {},
   "outputs": [],
   "source": [
    "# bootstrap\n",
    "np.random.seed(123456)\n",
    "N = 3000\n",
    "nb = 100\n",
    "b_E_inter = np.zeros((nb))\n",
    "b_σ_m2 = np.zeros((nb))\n",
    "b_E_Δu2 = np.zeros((nb))\n",
    "b_ζ2 = np.zeros((nb))\n",
    "for k in range(nb):\n",
    "    draw = np.random.choice(N, N, replace = True)\n",
    "    df_draw = df[df.id==draw[0]]\n",
    "    for i in range(1,N):\n",
    "        df_draw = df_draw.append(df[df.id==draw[i]])\n",
    "        \n",
    "    b_E_inter[k] = np.mean(df_draw['Δu']*df_draw['lag_Δu'])\n",
    "    b_σ_m2[k] = cov**2*np.mean(df_draw['lambda']*df_draw['lambda']) - b_E_inter[k]\n",
    "    b_E_Δu2[k] = np.mean(df_draw['Δu']**2)\n",
    "    b_ζ2[k] = b_E_Δu2[k] - 2*b_σ_m2[k] - cov**2*np.mean(-df_draw['FittedValue']*df_draw['lambda'])"
   ]
  },
  {
   "cell_type": "code",
   "execution_count": 223,
   "metadata": {},
   "outputs": [
    {
     "name": "stdout",
     "output_type": "stream",
     "text": [
      "Standard error of σ_m2 and σ_ζ2 are 6.213109069919919e-05 and 9.928788793686638e-05\n"
     ]
    }
   ],
   "source": [
    "se_σ_m2 = np.std(b_σ_m2)/sqrt(len(b_σ_m2))\n",
    "se_σ_ζ2 = np.std(b_ζ2)/sqrt(len(b_ζ2))\n",
    "print('Standard error of σ_m2 and σ_ζ2 are {} and {}'.format(se_σ_m2,se_σ_ζ2))"
   ]
  },
  {
   "cell_type": "code",
   "execution_count": null,
   "metadata": {},
   "outputs": [],
   "source": []
  }
 ],
 "metadata": {
  "kernelspec": {
   "display_name": "Python 3",
   "language": "python",
   "name": "python3"
  },
  "language_info": {
   "codemirror_mode": {
    "name": "ipython",
    "version": 3
   },
   "file_extension": ".py",
   "mimetype": "text/x-python",
   "name": "python",
   "nbconvert_exporter": "python",
   "pygments_lexer": "ipython3",
   "version": "3.7.3"
  }
 },
 "nbformat": 4,
 "nbformat_minor": 4
}
