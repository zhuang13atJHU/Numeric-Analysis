{
 "cells": [
  {
   "cell_type": "code",
   "execution_count": 1,
   "metadata": {},
   "outputs": [],
   "source": [
    "import pandas as pd\n",
    "import os\n",
    "import numpy as np\n",
    "import pandas as pd\n",
    "from scipy.interpolate import interp1d, interp2d\n",
    "from scipy.optimize import minimize_scalar,minimize\n",
    "import matplotlib.pyplot as plt\n",
    "%matplotlib inline\n",
    "from quantecon.markov import DiscreteDP\n",
    "from scipy.stats import norm\n",
    "from math import sqrt\n",
    "import matplotlib.pyplot as plt\n",
    "from scipy import optimize\n",
    "from scipy.optimize import brentq\n",
    "import time\n",
    "import statsmodels.api as sm"
   ]
  },
  {
   "cell_type": "code",
   "execution_count": 197,
   "metadata": {},
   "outputs": [],
   "source": [
    "df = pd.read_csv('Pset5DataQ3(1).csv')"
   ]
  },
  {
   "cell_type": "code",
   "execution_count": 198,
   "metadata": {},
   "outputs": [],
   "source": [
    "# initialize q_ns \n",
    "# p_1(x,s)\n",
    "# update q_ns"
   ]
  },
  {
   "cell_type": "code",
   "execution_count": 199,
   "metadata": {},
   "outputs": [],
   "source": [
    "β,M,γ,N,T = 0.95,7,0.5772,5000,50\n",
    "S = 2"
   ]
  },
  {
   "cell_type": "code",
   "execution_count": 200,
   "metadata": {},
   "outputs": [],
   "source": [
    "frames = [df,df]"
   ]
  },
  {
   "cell_type": "code",
   "execution_count": 201,
   "metadata": {},
   "outputs": [],
   "source": [
    "data = pd.concat(frames)\n",
    "data['s'] = 1\n",
    "data.s[N*T:] =2"
   ]
  },
  {
   "cell_type": "code",
   "execution_count": 202,
   "metadata": {},
   "outputs": [],
   "source": [
    "# initialize q_ns\n",
    "data['q_ns'] = 0.8*(data['s']==1)*(data['id'] % 3 ==0) + 0.2*(data['s']==2)*(data['id'] % 3 ==0) +  0.65*(data['s']==1)*(data['id'] % 3 !=0) + 0.35*(data['s']==2)*(data['id'] % 3 ==0)"
   ]
  },
  {
   "cell_type": "code",
   "execution_count": null,
   "metadata": {},
   "outputs": [],
   "source": []
  },
  {
   "cell_type": "code",
   "execution_count": 203,
   "metadata": {},
   "outputs": [],
   "source": [
    "iteration = 1000"
   ]
  },
  {
   "cell_type": "code",
   "execution_count": 204,
   "metadata": {},
   "outputs": [],
   "source": [
    "data['π_s'] = 0.6*(data['s']==1) + 0.4*(data['s']==2)"
   ]
  },
  {
   "cell_type": "code",
   "execution_count": 205,
   "metadata": {},
   "outputs": [],
   "source": [
    "for i in range(iteration):\n",
    "    # step 1:CCP_1\n",
    "    \n",
    "    def CCP_1(x,s):\n",
    "        p1_numer = np.sum((data['s']==s)*(data['d']==1)*(data['x']==x)*data['q_ns'])\n",
    "        p1_denom = np.sum(((data['s']==s) * (data['x'] == x)*data['q_ns']))\n",
    "        return p1_numer/p1_denom\n",
    "\n",
    "    CCP_1_matrix = np.zeros([M+1,S])\n",
    "    for x in range(M+1):\n",
    "        for s in range(S):\n",
    "            CCP_1_matrix[x,s] = CCP_1(x,s+1)\n",
    "        \n",
    "    data['CCP_1'] = CCP_1_matrix[data.x,data.s-1]\n",
    "    \n",
    "    \n",
    "    # step 2: q_ns\n",
    "    data['l'] = data.CCP_1*(data.d==1) + (1-data.CCP_1)*(data.d==0)\n",
    "    product = data.groupby(['id','s'])['l'].prod()\n",
    "    product = product.rename('product')\n",
    "    data = data.merge(product,how='left',on=['id','s'])\n",
    "\n",
    "    data['numerator'] = data['π_s'] * data['product']\n",
    "\n",
    "    denominator = data.groupby(['id','time'])['numerator'].sum()\n",
    "    denominator = denominator.rename('denominator')\n",
    "    data = data.merge(denominator,how='left',on=['id','time'])\n",
    "    \n",
    "    old_q_ns = np.array(data['q_ns'])\n",
    "    \n",
    "    data['q_ns'] = data.numerator/data.denominator\n",
    "    \n",
    "    new_q_ns = np.array(data['q_ns'])\n",
    "    data = data.drop(columns = ['product','denominator','numerator', 'l'])\n",
    "    \n",
    "    # step 3: π_s\n",
    "    π_1 = 1/(N*T)*np.sum(data.q_ns[data.s==1])\n",
    "    π_2 = 1/(N*T)*np.sum(data.q_ns[data.s==2])\n",
    "    data['π_s'] = (data.s==1)*π_1 + (data.s==2)*π_2\n",
    "    \n",
    "    gap = np.abs(old_q_ns - new_q_ns) \n",
    "    if np.max(gap) < 1e-5:\n",
    "        break"
   ]
  },
  {
   "cell_type": "code",
   "execution_count": 207,
   "metadata": {},
   "outputs": [],
   "source": [
    "data['CCP1_0'] = CCP_1_matrix[0, data.s-1]"
   ]
  },
  {
   "cell_type": "code",
   "execution_count": 209,
   "metadata": {},
   "outputs": [],
   "source": [
    "def likelihood(x,d,s,CCP1_0,CCP1_x,θ, q_ns):\n",
    "    θ1,θ2 = θ[0],θ[1]\n",
    "    num = (d==0) + (d==1)*np.exp(-θ2 + β*θ1*s*x - β*np.log(1-CCP1_0) + β*np.log(1-CCP1_x))\n",
    "    den = 1 + np.exp(-θ2 + β*θ1*s*x - β*np.log(1-CCP1_0) + β*np.log(1-CCP1_x))\n",
    "    return -np.average(np.log(num/den)*q_ns)\n",
    "    "
   ]
  },
  {
   "cell_type": "code",
   "execution_count": 211,
   "metadata": {},
   "outputs": [],
   "source": [
    "\n",
    "L = lambda θ: likelihood(data.x, data.d, data.s, data['CCP1_0'], data['CCP_1'], θ, data['q_ns'])\n",
    "θ0 = np.array([0.3, 3])\n",
    "result = minimize(L, θ0, bounds=((0.0001,1),(1,10)))"
   ]
  },
  {
   "cell_type": "code",
   "execution_count": 213,
   "metadata": {},
   "outputs": [
    {
     "data": {
      "text/plain": [
       "array([0.24182222, 3.09635717])"
      ]
     },
     "execution_count": 213,
     "metadata": {},
     "output_type": "execute_result"
    }
   ],
   "source": [
    "result.x"
   ]
  },
  {
   "cell_type": "code",
   "execution_count": 214,
   "metadata": {},
   "outputs": [],
   "source": [
    "hess = np.linalg.inv(result.hess_inv([[1,0],[0,1]]))\n",
    "se = np.diag(hess)/len(data)"
   ]
  },
  {
   "cell_type": "markdown",
   "metadata": {},
   "source": [
    "Standard errors are:"
   ]
  },
  {
   "cell_type": "code",
   "execution_count": 215,
   "metadata": {},
   "outputs": [
    {
     "data": {
      "text/plain": [
       "array([5.35713855e-06, 1.10443798e-07])"
      ]
     },
     "execution_count": 215,
     "metadata": {},
     "output_type": "execute_result"
    }
   ],
   "source": [
    "se"
   ]
  },
  {
   "cell_type": "code",
   "execution_count": null,
   "metadata": {},
   "outputs": [],
   "source": []
  }
 ],
 "metadata": {
  "kernelspec": {
   "display_name": "Python 3",
   "language": "python",
   "name": "python3"
  },
  "language_info": {
   "codemirror_mode": {
    "name": "ipython",
    "version": 3
   },
   "file_extension": ".py",
   "mimetype": "text/x-python",
   "name": "python",
   "nbconvert_exporter": "python",
   "pygments_lexer": "ipython3",
   "version": "3.7.3"
  }
 },
 "nbformat": 4,
 "nbformat_minor": 4
}
