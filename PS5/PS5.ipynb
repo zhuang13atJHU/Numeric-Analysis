{
 "cells": [
  {
   "cell_type": "markdown",
   "metadata": {},
   "source": [
    "# Problem Set 5"
   ]
  },
  {
   "cell_type": "markdown",
   "metadata": {},
   "source": [
    "This problem set offers an opportunity to apply the technology in Rust(1987), Aguirregabiria and Mira(2002), and Hotz and Miller (1993).  "
   ]
  },
  {
   "cell_type": "code",
   "execution_count": 1,
   "metadata": {},
   "outputs": [],
   "source": [
    "import pandas as pd\n",
    "import os\n",
    "import numpy as np\n",
    "import pandas as pd\n",
    "from scipy.interpolate import interp1d, interp2d\n",
    "from scipy.optimize import minimize_scalar,minimize\n",
    "import matplotlib.pyplot as plt\n",
    "%matplotlib inline\n",
    "from quantecon.markov import DiscreteDP\n",
    "from scipy.stats import norm\n",
    "from math import sqrt\n",
    "import matplotlib.pyplot as plt\n",
    "from scipy import optimize\n",
    "from scipy.optimize import brentq\n",
    "import time\n",
    "import statsmodels.api as sm"
   ]
  },
  {
   "cell_type": "code",
   "execution_count": 238,
   "metadata": {},
   "outputs": [
    {
     "data": {
      "text/html": [
       "<div>\n",
       "<style scoped>\n",
       "    .dataframe tbody tr th:only-of-type {\n",
       "        vertical-align: middle;\n",
       "    }\n",
       "\n",
       "    .dataframe tbody tr th {\n",
       "        vertical-align: top;\n",
       "    }\n",
       "\n",
       "    .dataframe thead th {\n",
       "        text-align: right;\n",
       "    }\n",
       "</style>\n",
       "<table border=\"1\" class=\"dataframe\">\n",
       "  <thead>\n",
       "    <tr style=\"text-align: right;\">\n",
       "      <th></th>\n",
       "      <th>id</th>\n",
       "      <th>time</th>\n",
       "      <th>x</th>\n",
       "      <th>d</th>\n",
       "    </tr>\n",
       "  </thead>\n",
       "  <tbody>\n",
       "    <tr>\n",
       "      <th>0</th>\n",
       "      <td>1</td>\n",
       "      <td>1</td>\n",
       "      <td>4</td>\n",
       "      <td>0</td>\n",
       "    </tr>\n",
       "    <tr>\n",
       "      <th>1</th>\n",
       "      <td>2</td>\n",
       "      <td>1</td>\n",
       "      <td>8</td>\n",
       "      <td>1</td>\n",
       "    </tr>\n",
       "    <tr>\n",
       "      <th>2</th>\n",
       "      <td>3</td>\n",
       "      <td>1</td>\n",
       "      <td>5</td>\n",
       "      <td>0</td>\n",
       "    </tr>\n",
       "    <tr>\n",
       "      <th>3</th>\n",
       "      <td>4</td>\n",
       "      <td>1</td>\n",
       "      <td>7</td>\n",
       "      <td>1</td>\n",
       "    </tr>\n",
       "    <tr>\n",
       "      <th>4</th>\n",
       "      <td>5</td>\n",
       "      <td>1</td>\n",
       "      <td>3</td>\n",
       "      <td>0</td>\n",
       "    </tr>\n",
       "  </tbody>\n",
       "</table>\n",
       "</div>"
      ],
      "text/plain": [
       "   id  time  x  d\n",
       "0   1     1  4  0\n",
       "1   2     1  8  1\n",
       "2   3     1  5  0\n",
       "3   4     1  7  1\n",
       "4   5     1  3  0"
      ]
     },
     "execution_count": 238,
     "metadata": {},
     "output_type": "execute_result"
    }
   ],
   "source": [
    "df = pd.read_csv('Pset5DataQ1(1).csv')\n",
    "df.head()"
   ]
  },
  {
   "cell_type": "code",
   "execution_count": 239,
   "metadata": {},
   "outputs": [
    {
     "name": "stdout",
     "output_type": "stream",
     "text": [
      "not ok\n"
     ]
    }
   ],
   "source": [
    "data2 = df[(df.id==1)&(df.time==1)]\n",
    "if data2.d.any()==1:\n",
    "    print('OK')\n",
    "else:\n",
    "    print('not ok')"
   ]
  },
  {
   "cell_type": "code",
   "execution_count": 240,
   "metadata": {},
   "outputs": [],
   "source": [
    "# set paramters\n",
    "β,M,γ,N,T = 0.95,9,0.5772,500,20"
   ]
  },
  {
   "cell_type": "code",
   "execution_count": 241,
   "metadata": {},
   "outputs": [
    {
     "data": {
      "text/plain": [
       "array([0, 1, 2, 3, 4, 5, 6, 7, 8, 9, 9])"
      ]
     },
     "execution_count": 241,
     "metadata": {},
     "output_type": "execute_result"
    }
   ],
   "source": [
    "iteration = 1000\n",
    "v = np.zeros((2,M+1,iteration))\n",
    "x_t = np.array([i for i in range(M+2)])\n",
    "x_t[-1] = x_t[-2]\n",
    "tolerance = 1e-5\n",
    "x_t"
   ]
  },
  {
   "cell_type": "code",
   "execution_count": 242,
   "metadata": {},
   "outputs": [],
   "source": [
    "def value(θ):\n",
    "    θ1,θ2 = θ[0],θ[1]\n",
    "    for i in range(1,iteration):\n",
    "        for x in x_t[:-1]:\n",
    "            EV = np.log(np.exp(v[0,(x<9)*(x+1)+(x==9)*x,i-1]) + np.exp(v[1,0,i-1])) + γ\n",
    "            v[0,x,i] = -θ1*x + β*EV\n",
    "            v[1,x,i] = -θ1*x - θ2 + β*EV\n",
    "            \n",
    "    \n",
    "        diff = v[:,:,i] - v[:,:,i-1]\n",
    "        if np.average(np.abs(diff)) < tolerance:\n",
    "            break\n",
    "    return v[:,:,i] "
   ]
  },
  {
   "cell_type": "code",
   "execution_count": 243,
   "metadata": {},
   "outputs": [],
   "source": [
    "\n",
    "def l_q1(θ,f,x,d):\n",
    "    v0 = f(θ)[0,:]\n",
    "    v1 = f(θ)[1,:]\n",
    "    l = ((d==1)*np.exp(v1[x])+(d==0)*np.exp(v0[x]))/(np.exp(v0[x])+np.exp(v1[x]))\n",
    "    return l"
   ]
  },
  {
   "cell_type": "code",
   "execution_count": 244,
   "metadata": {},
   "outputs": [],
   "source": [
    "def L(θ):\n",
    "    θ1,θ2 = θ[0], θ[1]\n",
    "    data = df\n",
    "    L = 0\n",
    "    log_l = np.log(l_q1(θ,value,df.x,df.d))                    \n",
    "    return -np.sum(log_l)"
   ]
  },
  {
   "cell_type": "code",
   "execution_count": 245,
   "metadata": {},
   "outputs": [],
   "source": [
    "θ0 = np.array([0.1,5])\n",
    "bnd = ((0.0001,1),(1,10))\n",
    "result_a = minimize(L,θ0,bounds=bnd)"
   ]
  },
  {
   "cell_type": "code",
   "execution_count": 226,
   "metadata": {},
   "outputs": [
    {
     "data": {
      "text/plain": [
       "array([0.44578392, 3.61141111])"
      ]
     },
     "execution_count": 226,
     "metadata": {},
     "output_type": "execute_result"
    }
   ],
   "source": [
    "result_a.x"
   ]
  },
  {
   "cell_type": "code",
   "execution_count": 275,
   "metadata": {},
   "outputs": [],
   "source": [
    "hess_a = np.linalg.inv(result_a.hess_inv([[1,0],[0,1]]))\n",
    "se_a = (np.diag(hess_a)/len(df))**(0.5)"
   ]
  },
  {
   "cell_type": "markdown",
   "metadata": {},
   "source": [
    "Standard errors are following:"
   ]
  },
  {
   "cell_type": "code",
   "execution_count": 276,
   "metadata": {},
   "outputs": [
    {
     "data": {
      "text/plain": [
       "array([0.01000005, 0.39951013])"
      ]
     },
     "execution_count": 276,
     "metadata": {},
     "output_type": "execute_result"
    }
   ],
   "source": [
    "se_a"
   ]
  },
  {
   "cell_type": "code",
   "execution_count": null,
   "metadata": {},
   "outputs": [],
   "source": []
  },
  {
   "cell_type": "markdown",
   "metadata": {},
   "source": [
    "## Question 1(b)"
   ]
  },
  {
   "cell_type": "code",
   "execution_count": 248,
   "metadata": {},
   "outputs": [],
   "source": [
    "p_1 = np.zeros(len(x_t[:-1]))\n",
    "p_0 = np.zeros(len(x_t[:-1]))\n",
    "for x in x_t[:-1]:\n",
    "    p_1[x] =  np.sum(df.d[(df.d==1)&(df.x==x)])/len(df.d[df.x==x])\n",
    "    p_0[x] = 1 - p_1[x]\n"
   ]
  },
  {
   "cell_type": "code",
   "execution_count": 249,
   "metadata": {},
   "outputs": [
    {
     "data": {
      "text/plain": [
       "array([-3.8376148 , -2.96033035, -1.90987021, -1.39967249, -0.65778996,\n",
       "       -0.22086824,  0.13071211,  0.50134688,  1.22050211,  0.81831032])"
      ]
     },
     "execution_count": 249,
     "metadata": {},
     "output_type": "execute_result"
    }
   ],
   "source": [
    "Δv = np.log(p_1/p_0)\n",
    "Δv"
   ]
  },
  {
   "cell_type": "code",
   "execution_count": 250,
   "metadata": {},
   "outputs": [],
   "source": [
    "def Δv_hat(θ,x):\n",
    "    θ1, θ2 = θ[0],θ[1]\n",
    "    delta_v = -θ2 + β*(np.log(1+p_1[0]/p_0[0]) + np.log(1+np.exp(Δv[(x<9)*(x+1)+(x==9)*x]))) + β*θ1*(x+(x<M))\n",
    "    return delta_v"
   ]
  },
  {
   "cell_type": "code",
   "execution_count": 251,
   "metadata": {},
   "outputs": [],
   "source": [
    "def l(θ,x,d):\n",
    "    p_ratio = np.exp(Δv_hat(θ,x))\n",
    "    p_1 = p_ratio/(1+p_ratio)\n",
    "    p_0 = 1 - p_1\n",
    "    return (d==1)*p_1 + (d==0)*p_0"
   ]
  },
  {
   "cell_type": "code",
   "execution_count": 252,
   "metadata": {},
   "outputs": [],
   "source": [
    "def L_2(θ):\n",
    "    log_l = np.log(l(θ,df.x,df.d))\n",
    "    return -np.sum(log_l)"
   ]
  },
  {
   "cell_type": "code",
   "execution_count": 253,
   "metadata": {},
   "outputs": [],
   "source": [
    "θ0 = np.array([1,1])\n",
    "bnd = ((0.00001,10),(1,10))\n",
    "result_b = minimize(L_2,θ0,bounds=bnd)"
   ]
  },
  {
   "cell_type": "code",
   "execution_count": 254,
   "metadata": {},
   "outputs": [
    {
     "data": {
      "text/plain": [
       "array([0.44578392, 3.61141111])"
      ]
     },
     "execution_count": 254,
     "metadata": {},
     "output_type": "execute_result"
    }
   ],
   "source": [
    "result_b.x"
   ]
  },
  {
   "cell_type": "code",
   "execution_count": 273,
   "metadata": {},
   "outputs": [],
   "source": [
    "hess_b = np.linalg.inv(result_b.hess_inv([[1,0],[0,1]]))\n",
    "se_b = (np.diag(hess_b)/len(df))**(0.5)"
   ]
  },
  {
   "cell_type": "markdown",
   "metadata": {},
   "source": [
    "Standard errors are following:"
   ]
  },
  {
   "cell_type": "code",
   "execution_count": 274,
   "metadata": {},
   "outputs": [
    {
     "data": {
      "text/plain": [
       "array([1.06941853, 0.27374948])"
      ]
     },
     "execution_count": 274,
     "metadata": {},
     "output_type": "execute_result"
    }
   ],
   "source": [
    "se_b"
   ]
  },
  {
   "cell_type": "markdown",
   "metadata": {},
   "source": [
    "## Question 1(c)"
   ]
  },
  {
   "cell_type": "code",
   "execution_count": 257,
   "metadata": {},
   "outputs": [],
   "source": [
    "# The idea is to iterate in order to find probability \n",
    "def P_0(θ):\n",
    "    iteration = 2000\n",
    "    toler = 1e-3\n",
    "    θ1, θ2 = θ[0],θ[1]\n",
    "    diff_v = np.zeros((len(x_t)-1,iteration+1))\n",
    "    p_0 = np.zeros(len(x_t)-1) + 0.5\n",
    "    p_1 = 1 - p_0\n",
    "    for m in range(iteration):\n",
    "        diff_v[:,m+1] = -θ2 + β*(np.log(1+p_1[0]/p_0[0]) + np.log(1+np.exp(diff_v[(x_t[:-1]<9)*(x_t[:-1]+1)+(x_t[:-1]==9)*x_t[:-1],m]))) + β*θ1*(x_t[:-1]+(x_t[:-1]<M))\n",
    "        p_0_new = 1/(1+np.exp(diff_v[:,m+1]))\n",
    "        p_1_new = 1 - p_0_new\n",
    "        if np.sum(np.abs(p_0_new-p_0))<toler:\n",
    "            break\n",
    "        else:\n",
    "            p_0, p_1 = p_0_new, p_1_new\n",
    "    return p_0"
   ]
  },
  {
   "cell_type": "code",
   "execution_count": 258,
   "metadata": {},
   "outputs": [
    {
     "data": {
      "text/plain": [
       "array([0.99669002, 0.99559697, 0.99414216, 0.99220509, 0.98962441,\n",
       "       0.98618323, 0.98158841, 0.97546706, 0.96763883, 0.96763883])"
      ]
     },
     "execution_count": 258,
     "metadata": {},
     "output_type": "execute_result"
    }
   ],
   "source": [
    "θ = np.array([0.3,6])\n",
    "P_0(θ)"
   ]
  },
  {
   "cell_type": "code",
   "execution_count": 259,
   "metadata": {},
   "outputs": [],
   "source": [
    "def l_q3(θ,x,d):\n",
    "    p_0 = P_0(θ)\n",
    "    p_1 = 1 - p_0\n",
    "    return (d==1)*p_1[x] + (d==0)*p_0[x]"
   ]
  },
  {
   "cell_type": "code",
   "execution_count": 260,
   "metadata": {},
   "outputs": [],
   "source": [
    "def L_3(θ):\n",
    "    log_l = np.log(l_q3(θ,df.x,df.d))\n",
    "    return -np.sum(log_l)"
   ]
  },
  {
   "cell_type": "code",
   "execution_count": 261,
   "metadata": {},
   "outputs": [],
   "source": [
    "θ0 = np.array([0.3,5])\n",
    "bnd = ((0.00001,0.53),(1,10))\n",
    "result_3 = minimize(L_3,θ0,bounds=bnd)"
   ]
  },
  {
   "cell_type": "markdown",
   "metadata": {},
   "source": [
    "Estimations are:"
   ]
  },
  {
   "cell_type": "code",
   "execution_count": 262,
   "metadata": {},
   "outputs": [
    {
     "data": {
      "text/plain": [
       "array([0.36269375, 3.31551376])"
      ]
     },
     "execution_count": 262,
     "metadata": {},
     "output_type": "execute_result"
    }
   ],
   "source": [
    "result_3.x"
   ]
  },
  {
   "cell_type": "code",
   "execution_count": 271,
   "metadata": {},
   "outputs": [],
   "source": [
    "hess_3 = np.linalg.inv(result_3.hess_inv([[1,0],[0,1]]))\n",
    "se_3 = (np.diag(hess_3)/len(df))**0.5"
   ]
  },
  {
   "cell_type": "code",
   "execution_count": 272,
   "metadata": {},
   "outputs": [
    {
     "data": {
      "text/plain": [
       "array([4.27049492, 0.51860556])"
      ]
     },
     "execution_count": 272,
     "metadata": {},
     "output_type": "execute_result"
    }
   ],
   "source": [
    "se_3"
   ]
  },
  {
   "cell_type": "markdown",
   "metadata": {},
   "source": [
    "## Question 2"
   ]
  },
  {
   "cell_type": "markdown",
   "metadata": {},
   "source": [
    "Use the following transformation for the derivative:\n",
    "\n",
    "\\begin{align}\n",
    "\\dfrac{d\\log(f(x))}{dx} = \\dfrac{1}{f(x)}\\dfrac{df(x)}{dx}\n",
    "\\end{align}\n",
    "\n",
    "Therefore, \n",
    "\n",
    "\\begin{align}\n",
    "\\dfrac{df(x)}{dx} = f(x)\\dfrac{d\\log(f(x))}{dx}\n",
    "\\end{align}"
   ]
  },
  {
   "cell_type": "markdown",
   "metadata": {},
   "source": [
    "Let $f(\\theta) = \\Pi_{t=1}^T L_{nst}(\\theta)$, and use the equation above, we can get the first order condition:\n",
    "\n",
    "\\begin{align}\n",
    "0 = \\Sigma_n \\Sigma_s \\dfrac{\\pi_s\\Pi_{t=1}^T L_{nst}(\\theta)}{sum} \\left(\\dfrac{\\Sigma_{t'}\\partial \\log L_{nst'}}{\\partial\\theta}\\right)\n",
    "\\end{align}\n",
    "\n",
    "where $sum$ is $\\Sigma_{s'=1}^S \\pi_{s'} \\Pi_{t=1}^T L_{ns't}(\\theta)$"
   ]
  },
  {
   "cell_type": "code",
   "execution_count": null,
   "metadata": {},
   "outputs": [],
   "source": []
  },
  {
   "cell_type": "code",
   "execution_count": null,
   "metadata": {},
   "outputs": [],
   "source": []
  }
 ],
 "metadata": {
  "kernelspec": {
   "display_name": "Python 3",
   "language": "python",
   "name": "python3"
  },
  "language_info": {
   "codemirror_mode": {
    "name": "ipython",
    "version": 3
   },
   "file_extension": ".py",
   "mimetype": "text/x-python",
   "name": "python",
   "nbconvert_exporter": "python",
   "pygments_lexer": "ipython3",
   "version": "3.7.3"
  }
 },
 "nbformat": 4,
 "nbformat_minor": 4
}
