{
 "cells": [
  {
   "cell_type": "markdown",
   "metadata": {},
   "source": [
    "# Problem Set 6"
   ]
  },
  {
   "cell_type": "markdown",
   "metadata": {},
   "source": [
    "This problem set asks for solutions to a discrete and continous choice problem, in which the worker chooses to work(retire) or not, and if retired, the worker cannot go back to the labor force. The continuous chioce part is choosing consumption. "
   ]
  },
  {
   "cell_type": "code",
   "execution_count": 1,
   "metadata": {},
   "outputs": [],
   "source": [
    "import numpy as np\n",
    "import pandas as pd\n",
    "from scipy.interpolate import interp1d, interp2d\n",
    "from scipy.optimize import minimize_scalar\n",
    "import matplotlib.pyplot as plt\n",
    "%matplotlib inline\n",
    "from quantecon.markov import DiscreteDP\n",
    "from scipy.stats import norm\n",
    "from math import sqrt\n",
    "import matplotlib.pyplot as plt\n",
    "from scipy import optimize\n",
    "from scipy.optimize import brentq\n",
    "import time"
   ]
  },
  {
   "cell_type": "code",
   "execution_count": 2,
   "metadata": {},
   "outputs": [],
   "source": [
    "# set parameters\n",
    "T,r,β,a0,minCons,y,δ = 20,0,0.98,0,1e-5,20,1\n",
    "R = 1+r"
   ]
  },
  {
   "cell_type": "markdown",
   "metadata": {},
   "source": [
    "# (a)"
   ]
  },
  {
   "cell_type": "code",
   "execution_count": 42,
   "metadata": {},
   "outputs": [],
   "source": [
    "# flow utility \n",
    "def flow_u(c,d):\n",
    "    u = np.log(c)- 1*δ*(d==1)\n",
    "    return u"
   ]
  },
  {
   "cell_type": "markdown",
   "metadata": {},
   "source": [
    "First, set the grids."
   ]
  },
  {
   "cell_type": "code",
   "execution_count": 30,
   "metadata": {},
   "outputs": [],
   "source": [
    "# set grid for assets\n",
    "N = 1000\n",
    "minA = np.zeros(T+1)\n",
    "maxA = np.zeros(T+1)\n",
    "for t in range(T):\n",
    "    age = T-t-1\n",
    "    minA[age] = minA[age+1]/(1+r) - 0 + minCons\n",
    "    \n",
    "maxA[0] = a0\n",
    "for age in range(1,T):\n",
    "    maxA[age] = 400 #(maxA[age-1] + y)*(1+r)\n",
    "    \n",
    "minA = minA[:-1]\n",
    "maxA = maxA[:-1]\n",
    "\n",
    "span = maxA - minA \n",
    "loggrid = np.linspace(np.log(1), np.log(1+span),N)\n",
    "grid = np.exp(loggrid)-1 + minA\n",
    "grid = grid.T"
   ]
  },
  {
   "cell_type": "markdown",
   "metadata": {},
   "source": [
    "Set the conusmption in the last period. "
   ]
  },
  {
   "cell_type": "code",
   "execution_count": 43,
   "metadata": {},
   "outputs": [],
   "source": [
    "c_matrix = np.zeros([N, 2, T])\n",
    "v_matrix = np.zeros([N, 2, T])\n",
    "\n",
    "# last period\n",
    "c_matrix[:,0,T-1] = grid[T-1]\n",
    "c_matrix[:,1,T-1] = grid[T-1] \n",
    "\n",
    "v_matrix[:,0,T-1] = np.log(c_matrix[:,0,T-1]) \n",
    "v_matrix[:,1,T-1] = np.log(c_matrix[:,0,T-1]) "
   ]
  },
  {
   "cell_type": "markdown",
   "metadata": {},
   "source": [
    "Using value function iteration, we calculate the value function, make the optimal choice about retirement and consumption."
   ]
  },
  {
   "cell_type": "code",
   "execution_count": 46,
   "metadata": {},
   "outputs": [],
   "source": [
    "for t in range(1,T):\n",
    "    \n",
    "    age = T-t-1\n",
    "    \n",
    "    v_0 = interp1d(grid[age+1,:], v_matrix[:,0,age+1], kind='linear', fill_value='extrapolate')\n",
    "    v_1 = interp1d(grid[age+1,:], v_matrix[:,1,age+1], kind='linear', fill_value='extrapolate')\n",
    "    \n",
    "    \n",
    "    \n",
    "    for a in range(N):\n",
    "        \n",
    "        if minCons > grid[age,a]:\n",
    "            \n",
    "            grid[age,a] = minCons\n",
    "            c_matrix[a,1,age] = minCons\n",
    "            c_matrix[a,0,age] = minCons\n",
    "            v_matrix[a,1,age] = np.log(minCons)\n",
    "            v_matrix[a,0,age] = np.log(minCons)\n",
    "            \n",
    "        else:\n",
    "            \n",
    "            res_1 = minimize_scalar(lambda c_1: - (np.log(c_1)-1+ β*np.maximum(v_0((grid[age,a]-c_1)*R+y),v_1((grid[age,a]-c_1)*R+y)) ),bounds=(minCons, grid[age,a]),method='bounded')\n",
    "            c_matrix[a,1,age] = res_1.x\n",
    "            v_matrix[a,1,age] = - res_1.fun  \n",
    "\n",
    "            res_0 = minimize_scalar(lambda c_0: -(np.log(c_0) + β*v_0((grid[age,a]-c_0)*R)), bounds=(minCons,grid[age,a]),method='bounded')                                             \n",
    "            c_matrix[a,0,age] = res_0.x\n",
    "            v_matrix[a,0,age] = - res_0.fun\n",
    "    "
   ]
  },
  {
   "cell_type": "markdown",
   "metadata": {},
   "source": [
    "Draw the figure."
   ]
  },
  {
   "cell_type": "code",
   "execution_count": 48,
   "metadata": {},
   "outputs": [
    {
     "data": {
      "text/plain": [
       "<matplotlib.legend.Legend at 0x29299115390>"
      ]
     },
     "execution_count": 48,
     "metadata": {},
     "output_type": "execute_result"
    },
    {
     "data": {
      "image/png": "[encoded data removed]",
      "text/plain": [
       "<Figure size 576x360 with 1 Axes>"
      ]
     },
     "metadata": {
      "needs_background": "light"
     },
     "output_type": "display_data"
    }
   ],
   "source": [
    "figure, axes = plt.subplots(figsize=(8,5)) \n",
    "axes.scatter(grid[16,:],c_matrix[:,1,16], label='t=18')\n",
    "axes.scatter(grid[13,:],c_matrix[:,1,13], label='t=15')\n",
    "axes.scatter(grid[8,:],c_matrix[:,1,8], label='t=10')\n",
    "axes.set_xlim(0,250)\n",
    "axes.set_ylim(0,40)\n",
    "axes.set_xlabel('asset')\n",
    "axes.set_ylabel('conusmption with d=1')\n",
    "axes.set_title('Policy Function at different ages')\n",
    "axes.legend()"
   ]
  },
  {
   "cell_type": "code",
   "execution_count": null,
   "metadata": {},
   "outputs": [],
   "source": []
  },
  {
   "cell_type": "code",
   "execution_count": null,
   "metadata": {},
   "outputs": [],
   "source": []
  },
  {
   "cell_type": "markdown",
   "metadata": {},
   "source": [
    "## (b)"
   ]
  },
  {
   "cell_type": "code",
   "execution_count": 36,
   "metadata": {},
   "outputs": [],
   "source": [
    "def MU(c):\n",
    "    MU = 1/c\n",
    "    return MU"
   ]
  },
  {
   "cell_type": "code",
   "execution_count": 37,
   "metadata": {},
   "outputs": [],
   "source": [
    "c = np.zeros([N,3])  # 3 represents t = 8,13,16\n",
    "Marg_U = np.zeros([N,3])\n",
    "list = np.array([8,13,16])\n",
    "for age in range(3):\n",
    "    for a in range(N):\n",
    "        c[a,age] = c_matrix[a,1,list[age]]*(v_matrix[a,1,list[age]]>=v_matrix[a,0,list[age]]) + c_matrix[a,0,list[age]]*(v_matrix[a,1,list[age]]<v_matrix[a,0,list[age]])\n",
    "        if c[a,age] < minCons:\n",
    "            c[a,age] = minCons\n",
    "            \n",
    "        Marg_U[a,age] = MU(c[a,age])"
   ]
  },
  {
   "cell_type": "markdown",
   "metadata": {},
   "source": [
    "Draw the figure. "
   ]
  },
  {
   "cell_type": "code",
   "execution_count": 38,
   "metadata": {},
   "outputs": [
    {
     "data": {
      "text/plain": [
       "<matplotlib.legend.Legend at 0x29298fbd898>"
      ]
     },
     "execution_count": 38,
     "metadata": {},
     "output_type": "execute_result"
    },
    {
     "data": {
      "image/png": "[encoded data removed]",
      "text/plain": [
       "<Figure size 576x360 with 1 Axes>"
      ]
     },
     "metadata": {
      "needs_background": "light"
     },
     "output_type": "display_data"
    }
   ],
   "source": [
    "figure, axes = plt.subplots(figsize=(8,5)) \n",
    "axes.scatter(grid[16,:],Marg_U[:,2], label='t=18')\n",
    "axes.scatter(grid[13,:],Marg_U[:,1], label='t=15')\n",
    "axes.scatter(grid[8,:],Marg_U[:,0], label='t=10')\n",
    "axes.set_ylim(0,0.1)\n",
    "axes.set_xlabel('asset')\n",
    "axes.set_ylabel('Marginal Utility')\n",
    "axes.set_title('Marginal utility as a function of asset')\n",
    "axes.legend()"
   ]
  },
  {
   "cell_type": "code",
   "execution_count": null,
   "metadata": {},
   "outputs": [],
   "source": []
  },
  {
   "cell_type": "markdown",
   "metadata": {},
   "source": [
    "## (c)"
   ]
  },
  {
   "cell_type": "markdown",
   "metadata": {},
   "source": [
    "Unconditional value function is the maximum between value conditional on retirement and value condictional on continuig to work."
   ]
  },
  {
   "cell_type": "code",
   "execution_count": 39,
   "metadata": {},
   "outputs": [],
   "source": [
    "# unconditional V for t=20 \n",
    "v = np.zeros([N,T])\n",
    "for t in range(T):\n",
    "    for a in range(N):\n",
    "        v[a,t] = v_matrix[a,1,t]*(v_matrix[a,1,t]>=v_matrix[a,0,t]) + v_matrix[a,0,t]*(v_matrix[a,1,t]<v_matrix[a,0,t])\n"
   ]
  },
  {
   "cell_type": "code",
   "execution_count": 41,
   "metadata": {},
   "outputs": [
    {
     "data": {
      "text/plain": [
       "<matplotlib.legend.Legend at 0x2929903e400>"
      ]
     },
     "execution_count": 41,
     "metadata": {},
     "output_type": "execute_result"
    },
    {
     "data": {
      "image/png": "[encoded data removed]",
      "text/plain": [
       "<Figure size 576x360 with 1 Axes>"
      ]
     },
     "metadata": {
      "needs_background": "light"
     },
     "output_type": "display_data"
    }
   ],
   "source": [
    "\n",
    "figure, axes = plt.subplots(figsize=(8,5)) \n",
    "axes.plot(grid[18,:],v[:,18], label='t=20')\n",
    "axes.set_xlabel('asset')\n",
    "axes.set_ylabel('Value')\n",
    "axes.set_title('Unconditional value function')\n",
    "axes.legend()"
   ]
  },
  {
   "cell_type": "markdown",
   "metadata": {},
   "source": [
    "Note that there is a kink of the value as a function of asset, this is becuase when asset is large, workers choose to retire as a best response. "
   ]
  },
  {
   "cell_type": "code",
   "execution_count": null,
   "metadata": {},
   "outputs": [],
   "source": []
  }
 ],
 "metadata": {
  "kernelspec": {
   "display_name": "Python 3",
   "language": "python",
   "name": "python3"
  },
  "language_info": {
   "codemirror_mode": {
    "name": "ipython",
    "version": 3
   },
   "file_extension": ".py",
   "mimetype": "text/x-python",
   "name": "python",
   "nbconvert_exporter": "python",
   "pygments_lexer": "ipython3",
   "version": "3.7.3"
  }
 },
 "nbformat": 4,
 "nbformat_minor": 4
}
