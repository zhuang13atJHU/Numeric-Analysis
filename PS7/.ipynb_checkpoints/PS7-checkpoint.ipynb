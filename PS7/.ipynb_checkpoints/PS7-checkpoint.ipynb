{
 "cells": [
  {
   "cell_type": "markdown",
   "metadata": {},
   "source": [
    "# Problem Set 7"
   ]
  },
  {
   "cell_type": "markdown",
   "metadata": {},
   "source": [
    "This problem set is solving a limited commitment and full commitment consumption and saving model in a marriage setting. In the former case, couples are allowed to divorce so each of spouse member has a participation constraint, and when the contraint binds, more bargaining power will shift to the one whose contraint is binding. In the latter case, couples, once getting married, will never divorce, and the bargaing power does not change. "
   ]
  },
  {
   "cell_type": "code",
   "execution_count": 130,
   "metadata": {},
   "outputs": [],
   "source": [
    "import numpy as np\n",
    "import pandas as pd\n",
    "from scipy.interpolate import interp1d, interp2d,interpn, RegularGridInterpolator\n",
    "from scipy.optimize import minimize_scalar\n",
    "import matplotlib.pyplot as plt\n",
    "%matplotlib inline\n",
    "from quantecon.markov import DiscreteDP\n",
    "from scipy.stats import norm\n",
    "from math import sqrt\n",
    "import matplotlib.pyplot as plt\n",
    "from scipy import optimize\n",
    "from scipy.optimize import brentq\n",
    "import time"
   ]
  },
  {
   "cell_type": "markdown",
   "metadata": {},
   "source": [
    "First, I want to compute the value of being single. (as in the problem set 2)"
   ]
  },
  {
   "cell_type": "markdown",
   "metadata": {},
   "source": [
    "### Value if getting divorced "
   ]
  },
  {
   "cell_type": "code",
   "execution_count": 23,
   "metadata": {},
   "outputs": [],
   "source": [
    "class CakeEating:\n",
    "    def __init__(self, \n",
    "                 T = 40, \n",
    "                 r = 0.03, \n",
    "                 beta = 0.95, \n",
    "                 gamma = 1.5, \n",
    "                 a0 = 1, \n",
    "                 minCons = 1e-5, \n",
    "                 rho = 0.75, \n",
    "                 sig = 0.25,\n",
    "                 N = 5,\n",
    "                 mu = 0):\n",
    "        self.T, self.r, self.beta, self.gamma, self.a0, self.minCons, self.rho,self.sig, self.N,self.mu = T, r, beta, gamma, a0, minCons, rho, sig, N, mu    \n",
    "        \n",
    "    def Grid(self,y_max,y_min):\n",
    "        T,r,beta,gamma,a0,minCons = self.T,self.r,self.beta,self.gamma,self.a0,self.minCons\n",
    "        \n",
    "        gridMax = np.zeros(T)\n",
    "        gridMax[0] = a0\n",
    "        for num in range(T-1):\n",
    "            gridMax[num+1]=(gridMax[num] + y_max)*(1+r)\n",
    "        \n",
    "        gridMin = np.zeros(T)\n",
    "        gridMin[T-1] = -y_min + minCons\n",
    "        for t in range(T-1):\n",
    "            age = T-t-1\n",
    "            gridMin[age-1] = gridMin[age]/(1+r) - y_min + minCons\n",
    "        #for num in range(T):\n",
    "         #   gridMin[num] = - y_min*(1/(1+r)-(1/(1+r))**(T-num+1))/(1-1/(1+r)) \n",
    "        \n",
    "        loggrid = np.zeros((T,20)) \n",
    "        grid = np.zeros((T,20))\n",
    "        for num in range(T):\n",
    "            span = gridMax[num] - gridMin[num]\n",
    "            loggrid[num,:] = np.linspace((np.log(1)),(np.log(1+span)),20)\n",
    "            grid[num,:] = np.exp(loggrid[num,:]) - 1 + gridMin[num]\n",
    "        \n",
    "        return(grid)\n",
    "    \n",
    "    def Utility(self,c):\n",
    "        self.gamma =gamma\n",
    "        return(c**(1-gamma)/(1-gamma))\n",
    "    \n",
    "    def MU(self,c):\n",
    "        self.gamma = gamma\n",
    "        return(c**(-gamma))\n",
    "    \n",
    "    #generate a transition matrix\n",
    "    def Pi(self):\n",
    "        sig, rho, N,mu = self.sig,self.rho,self.N,self.mu\n",
    "        sig_epsilon = sig/sqrt(1-rho**2)\n",
    "        \n",
    "        #generate grid points epsilon\n",
    "        epsilon = []\n",
    "        epsilon.append(-3*sig_epsilon)\n",
    "        n = list(range(2,N+1))\n",
    "        \n",
    "        for num in n:\n",
    "            epsilon.append(sig_epsilon*norm.ppf((num-1)/N)+mu)\n",
    "\n",
    "        epsilon.append(3*sig_epsilon)  #generate epsilon \n",
    "        \n",
    "        #generate z_i\n",
    "        z=[]\n",
    "        for i in range(0,N):\n",
    "            z.append(N*sig_epsilon*(norm.pdf((epsilon[i]-mu)/sig_epsilon)-norm.pdf((epsilon[i+1]-mu)/sig_epsilon)) + mu)\n",
    "        \n",
    "        #generate transition matrix\n",
    "        Pi = np.zeros(shape=(5,5))\n",
    "        for i in range(0,N):\n",
    "            for j in range(0,N):\n",
    "                Pi[i,j] = norm.cdf((epsilon[j+1]-mu*(1-rho)-rho*(epsilon[i+1]))/sig) - norm.cdf((epsilon[j]-mu*(1-rho)-rho*(epsilon[i+1]))/sig)\n",
    "        \n",
    "        sum = Pi.sum(axis=1)\n",
    "        \n",
    "        #normalize\n",
    "        for i in range(0,N):\n",
    "            for j in range(0,N):\n",
    "                Pi[i,j] = Pi[i,j]/sum[i]  \n",
    "        \n",
    "        \n",
    "        return Pi, z\n",
    "    \n",
    "    #generate states by the transition matrix, return to a vector of states for T periods  \n",
    "    def State(self):\n",
    "        Pi,T,N = self.Pi, self.T,self.N\n",
    "        np.random.seed(123)\n",
    "        state=np.zeros(T)\n",
    "        state[0] = np.random.choice(range(5), 1, replace = True, p=[0.2,0.2,0.2,0.2,0.2])\n",
    "        for t in range(1,T):\n",
    "            p=[]\n",
    "            for j in range(0,N):\n",
    "                p.append(Pi[int(state[t-1]),j])  #int is to convert the float to integer\n",
    "                \n",
    "            state[t] = np.random.choice(range(5),1,replace=True,p=p)\n",
    "        return state\n",
    "\n",
    "    \n",
    "    \n",
    "\n",
    "model = CakeEating()\n",
    "Pi,z = model.Pi()\n",
    "y = np.exp(z)\n",
    "a_grid = model.Grid(max(y),min(y))\n",
    "MU = model.MU\n",
    "\n",
    "\n",
    "T = model.T\n",
    "N = model.N\n",
    "r,beta, gamma = model.r, model.beta, model.gamma\n",
    "\n",
    "\n",
    "\n",
    "c_matrix = []\n",
    "for j in range(5):\n",
    "    c_matrix.append(a_grid[T-1]+y[j])\n",
    "v_matrix = []\n",
    "#length is 5, each array has 20 elements. this is for the last period\n",
    "for i in range(5):\n",
    "    v_matrix.append(model.Utility(c_matrix[i]))\n",
    "\n",
    "\n",
    "#generate c and v as three dimensional array, the first dimension is time, the second dimension is a, and the last dimension is income.\n",
    "c = np.zeros((T,20,5))\n",
    "v = np.zeros((T,20,5))\n",
    "for j in range(5):\n",
    "    for i in range(20):\n",
    "        c[T-1,i,j] = c_matrix[j][i] \n",
    "        v[T-1,i,j] = v_matrix[j][i]\n",
    "\n",
    "\n",
    "def ValueFun(c, a, index):\n",
    "    #Pi,z = model.Pi()\n",
    "    w = Pi[index]\n",
    "    if c < 1e-5:\n",
    "        value = -1e10\n",
    "    else:\n",
    "        value1 = np.zeros(N)\n",
    "        for i in range(N):\n",
    "            value1[i] = v_inter(y[i],(a+y[index]-c)*(1+r))\n",
    "        value = model.Utility(c) + beta*np.average(value1,weights = w)\n",
    "    return value\n",
    "\n",
    "# find optimial consumption\n",
    "def c_star(a, index, lbar, ubar):\n",
    "    #lbar = 1e-10\n",
    "    #ubar = a + y[index] + np.min(y)*(1/(1+r)-(1/(1+r)**(T-t)))/(1-1/(1+r))  #upper bound is to spend all money today the individaul has and borrow what he can return back if he always receives low income\n",
    "    #print(lbar,ubar)\n",
    "    \n",
    "    result = minimize_scalar(lambda c: -ValueFun(c, a, index), bounds=(lbar,ubar), method = 'bounded')\n",
    "    c_star = result.x\n",
    "    v_star = -result.fun\n",
    "    #print(c_star)\n",
    "    #v_star = -v_star\n",
    "    return c_star, v_star\n",
    "\n",
    "for t in range(T-1):\n",
    "    age = T-t-1\n",
    "    grid = a_grid[age]\n",
    "    v_array = v[age]\n",
    "    yy,gg = np.meshgrid(y,grid)\n",
    "    v_inter = interp2d(y,grid,v_array)\n",
    "    for i in range(20):\n",
    "        for j in range(5):\n",
    "            lbar = 1e-10\n",
    "            ubar = a_grid[age-1][i] + y[j] - np.min(a_grid[age])/(1+r)\n",
    "            #ubar = a_grid[age-1][i] + y[j] + np.min(y)*(1/(1+r)-(1/(1+r)**(T-age+1)))/(1-1/(1+r)) \n",
    "            if ubar < lbar:\n",
    "                c[age-1,i,j], v[age-1,i,j] = ubar, 1e-10\n",
    "            else:\n",
    "                a = a_grid[age-1][i]\n",
    "                c[age-1,i,j],v[age-1,i,j] = c_star(a, j, lbar, ubar)   \n"
   ]
  },
  {
   "cell_type": "code",
   "execution_count": 24,
   "metadata": {},
   "outputs": [],
   "source": [
    "v_divor = v\n",
    "a_grid_inter = a_grid"
   ]
  },
  {
   "cell_type": "markdown",
   "metadata": {},
   "source": [
    "Set the parameters for the following computation."
   ]
  },
  {
   "cell_type": "code",
   "execution_count": 141,
   "metadata": {},
   "outputs": [],
   "source": [
    "# set parameter values\n",
    "N_inc = 5 # number of income grid\n",
    "N_ass = 10 # number of asset grid \n",
    "N_θ = 5 # number of bargaining power grid \n",
    "ρ = 0.75\n",
    "σ_ν = 0.25\n",
    "T = 10\n",
    "r = 0.03\n",
    "β = 0.95\n",
    "γ = 1.5\n",
    "a0 = 0 \n",
    "minCons = 1e-5\n",
    "R = 1+r"
   ]
  },
  {
   "cell_type": "code",
   "execution_count": null,
   "metadata": {},
   "outputs": [],
   "source": []
  },
  {
   "cell_type": "code",
   "execution_count": 26,
   "metadata": {},
   "outputs": [],
   "source": [
    "def utility(c):\n",
    "    u = c**(1-γ)/(1-γ)\n",
    "    return u"
   ]
  },
  {
   "cell_type": "code",
   "execution_count": 27,
   "metadata": {},
   "outputs": [],
   "source": [
    "#generate a transition matrix\n",
    "def Pi(ρ,σ, N_inc):\n",
    "    σ, ρ, N_inc , μ = σ_ν, ρ, N_inc, 0\n",
    "    sig_epsilon = σ/sqrt(1-ρ**2)\n",
    "\n",
    "    #generate grid points epsilon\n",
    "    epsilon = []\n",
    "    epsilon.append(-3*sig_epsilon)\n",
    "    n = list(range(2,N_inc+1))\n",
    "\n",
    "    for num in n:\n",
    "        epsilon.append(sig_epsilon*norm.ppf((num-1)/N_inc)+μ)\n",
    "\n",
    "    epsilon.append(3*sig_epsilon)  #generate epsilon \n",
    "\n",
    "    #generate z_i\n",
    "    z=[]\n",
    "    for i in range(0,N_inc):\n",
    "        z.append(N_inc*sig_epsilon*(norm.pdf((epsilon[i]-μ)/sig_epsilon)-norm.pdf((epsilon[i+1]-μ)/sig_epsilon)) + μ)\n",
    "\n",
    "    #generate transition matrix\n",
    "    Pi = np.zeros(shape=(N_inc,N_inc))\n",
    "    for i in range(0,N_inc):\n",
    "        for j in range(0,N_inc):\n",
    "            Pi[i,j] = norm.cdf((epsilon[j+1]-μ*(1-ρ)-ρ*(epsilon[i+1]))/σ) - norm.cdf((epsilon[j]-μ*(1-ρ)-ρ*(epsilon[i+1]))/σ)\n",
    "\n",
    "    sum = Pi.sum(axis=1)\n",
    "\n",
    "    #normalize\n",
    "    for i in range(0,N_inc):\n",
    "        for j in range(0,N_inc):\n",
    "            Pi[i,j] = Pi[i,j]/sum[i]  \n",
    "\n",
    "\n",
    "    return Pi, z"
   ]
  },
  {
   "cell_type": "code",
   "execution_count": 28,
   "metadata": {},
   "outputs": [],
   "source": [
    "prob, z = Pi(ρ,σ_ν,N_inc)\n",
    "y = np.exp(z)\n"
   ]
  },
  {
   "cell_type": "code",
   "execution_count": 29,
   "metadata": {},
   "outputs": [],
   "source": [
    "def Probability(y1_index,y2_index):\n",
    "    pi = np.zeros((N_inc,N_inc))\n",
    "    for i in range(N_inc):\n",
    "        for j in range(N_inc):\n",
    "            pi[i,j] = prob[y1_index,i]*prob[y2_index,j]\n",
    "    return pi"
   ]
  },
  {
   "cell_type": "code",
   "execution_count": null,
   "metadata": {},
   "outputs": [],
   "source": []
  },
  {
   "cell_type": "code",
   "execution_count": 30,
   "metadata": {},
   "outputs": [],
   "source": [
    "def Grid(y_max,y_min,N_ass):\n",
    "    gridMax = np.zeros(T)\n",
    "    gridMax[0] = a0\n",
    "    for num in range(T-1):\n",
    "        gridMax[num+1]=(gridMax[num] + y_max)*R\n",
    "\n",
    "    gridMin = np.zeros(T)\n",
    "    gridMin[T-1] = -y_min + minCons\n",
    "    for t in range(T-1):\n",
    "        age = T-t-1\n",
    "        gridMin[age-1] = gridMin[age]/(1+r) - y_min + minCons\n",
    "    #for num in range(T):\n",
    "     #   gridMin[num] = - y_min*(1/(1+r)-(1/(1+r))**(T-num+1))/(1-1/(1+r)) \n",
    "\n",
    "    loggrid = np.zeros((T,N_ass)) \n",
    "    grid = np.zeros((T,N_ass))\n",
    "    for num in range(T):\n",
    "        span = gridMax[num] - gridMin[num]\n",
    "        loggrid[num,:] = np.linspace((np.log(1)),(np.log(1+span)),N_ass)\n",
    "        grid[num,:] = np.exp(loggrid[num,:]) - 1 + gridMin[num]\n",
    "    return(grid)"
   ]
  },
  {
   "cell_type": "code",
   "execution_count": 31,
   "metadata": {},
   "outputs": [],
   "source": [
    "grid_ass = Grid(max(y),min(y),N_ass)"
   ]
  },
  {
   "cell_type": "code",
   "execution_count": 149,
   "metadata": {},
   "outputs": [],
   "source": [
    "grid_θ = np.linspace(0.2,0.8,N_θ)"
   ]
  },
  {
   "cell_type": "markdown",
   "metadata": {},
   "source": [
    "Calculate the last period consumption and value. "
   ]
  },
  {
   "cell_type": "code",
   "execution_count": 150,
   "metadata": {},
   "outputs": [],
   "source": [
    "# calcualte the last period\n",
    "age = T-1\n",
    "c1 = np.zeros((T,N_ass,N_θ,N_inc,N_inc))\n",
    "c2 = np.zeros((T,N_ass,N_θ,N_inc,N_inc))\n",
    "v1 = np.zeros((T,N_ass,N_θ,N_inc,N_inc))\n",
    "v2 = np.zeros((T,N_ass,N_θ,N_inc,N_inc))\n",
    "for n in range(N_ass):\n",
    "    for m in range(N_θ):\n",
    "        for i in range(N_inc):\n",
    "            for j in range(N_inc):\n",
    "                a = grid_ass[age,n]\n",
    "                θ = 0.5\n",
    "                y1 = y[i]\n",
    "                y2 = y[j]\n",
    "                ubar = a*R+y1+y2\n",
    "                result = minimize_scalar(lambda c: - (θ*utility(c) + (1-θ)*utility(a*R+y1+y2-c)), bounds=(minCons,ubar),method='bounded')\n",
    "                c1[T-1,n,m,i,j] = result.x\n",
    "                c2[T-1,n,m,i,j] = a*R + y1 + y2 - c1[T-1,n,m,i,j]\n",
    "                v1[T-1,n,m,i,j] = utility(c1[T-1,n,m,i,j])\n",
    "                v2[T-1,n,m,i,j] = utility(c2[T-1,n,m,i,j])"
   ]
  },
  {
   "cell_type": "code",
   "execution_count": 152,
   "metadata": {},
   "outputs": [],
   "source": [
    "value1 = np.zeros((T,N_ass,N_θ,N_inc,N_inc))\n",
    "value2 = np.zeros((T,N_ass,N_θ,N_inc,N_inc))\n",
    "value1[T-1] = v1[T-1]\n",
    "value2[T-1] = v2[T-1]"
   ]
  },
  {
   "cell_type": "code",
   "execution_count": null,
   "metadata": {},
   "outputs": [],
   "source": []
  },
  {
   "cell_type": "code",
   "execution_count": 161,
   "metadata": {},
   "outputs": [],
   "source": [
    "#def Value(c1,c2,a,θ,y1_index,y2_index,t):\n",
    "def Value(c1,c2):\n",
    "    w = Probability(i,j)\n",
    "    v_1 = np.zeros((N_inc,N_inc))\n",
    "    v_2 = np.zeros((N_inc,N_inc))\n",
    "    for p in range(N_inc):\n",
    "        for q in range(N_inc):\n",
    "            a1 = R*a + y[i] +y[j] - c1 - c2\n",
    "            xi = (a1,θ,y[p],y[q])\n",
    "#            points = (grid_ass[t+1],grid_θ,y,y)\n",
    "            \n",
    "            v_1[p,q] = g1(xi)\n",
    "            v_2[p,q] = g2(xi)\n",
    "            \n",
    "            #v_1[i,j] = interpn((points),value1[t+1,:,:,:,:],xi,method='linear',bounds_error=False,fill_value=None)\n",
    "            #v_2[i,j] = interpn((points),value2[t+1,:,:,:,:],xi,method='linear',bounds_error=False,fill_value=None)\n",
    "    Value_1 = utility(c1) + β*np.average(v_1,weights = w)    # expected value\n",
    "    Value_2 = utility(c2) + β*np.average(v_2,weights = w)    # expected value\n",
    "    return Value_1,Value_2"
   ]
  },
  {
   "cell_type": "markdown",
   "metadata": {},
   "source": [
    "## (a) Limited commitment"
   ]
  },
  {
   "cell_type": "markdown",
   "metadata": {},
   "source": [
    "Using value function iteration, compute the value and consumption in the limited commitment case. "
   ]
  },
  {
   "cell_type": "code",
   "execution_count": 162,
   "metadata": {},
   "outputs": [],
   "source": [
    "for t in range(T-1):\n",
    "    age = T-t-2\n",
    "    v_single = interp2d(y,a_grid_inter[age,:],v_divor[age,:,:])\n",
    "    \n",
    "    points = (grid_ass[t+1],grid_θ,y,y)\n",
    "    g1 = RegularGridInterpolator((points),value1[age+1,:,:,:,:],method='linear',bounds_error=False,fill_value=None)\n",
    "    g2 = RegularGridInterpolator((points),value2[age+1,:,:,:,:],method='linear',bounds_error=False,fill_value=None)\n",
    "    \n",
    "    for n in range(N_ass):\n",
    "        \n",
    "        for i in range(N_inc):\n",
    "            for j in range(N_inc):\n",
    "                \n",
    "                \n",
    "                \n",
    "                bind1 = np.zeros(N_θ)\n",
    "                bind2 = np.zeros(N_θ)\n",
    "                d = [0]*N_θ\n",
    "                \n",
    "                for m in range(N_θ):\n",
    "                    # print('This is the loop at age {}, asset grid {}, income ({},{}), θ({})'.format(age, n, i, j, m))\n",
    "                    a = grid_ass[age,n]\n",
    "                    θ = grid_θ[m]\n",
    "                    ub = R*a + y[i] + y[j] + 2*y[0]*(1-1/(R)**(T-age))/r\n",
    "                    constr = lambda x: ub - x[0] - x[1]\n",
    "                    f = lambda c: - (θ*Value(c[0],c[1])[0] + (1-θ)*Value(c[0],c[1])[1])\n",
    "                    # f = lambda c: - (θ*Value(c[0],c[1],a,θ,i,j,age)[0] + (1-θ)*Value(c[0],c[1],a,θ,i,j,age)[1])\n",
    "                    initial_guess = [(minCons+ub)*θ,(minCons+ub)*(1-θ)]\n",
    "                    result = optimize.minimize(f,initial_guess, constraints={'fun':constr,'type':'ineq'}, bounds=((minCons,ub),(minCons,ub)))\n",
    "                    c1[age,n,m,i,j], c2[age,n,m,i,j] = result.x[0], result.x[1]\n",
    "                    value1[age,n,m,i,j],value2[age,n,m,i,j] = Value(c1[age,n,m,i,j],c2[age,n,m,i,j])[0],Value(c1[age,n,m,i,j],c2[age,n,m,i,j])[1]\n",
    "                    #value1[age,n,m,i,j],value2[age,n,m,i,j] = Value(c1[age,n,m,i,j],c2[age,n,m,i,j],a,θ,y[i],y[j],age)[0],Value(c1[age,n,m,i,j],c2[age,n,m,i,j],a,θ,y[i],y[j],age)[1]\n",
    "\n",
    "                    # check participation constraint\n",
    "                    \n",
    "                    bind1[m] = value1[age,n,m,i,j] < v_single(y[i],a/2)\n",
    "                    bind2[m] = value2[age,n,m,i,j] < v_single(y[j],a/2)\n",
    "                    \n",
    "                    d[m] = [ [bind1[m], bind2[m]] ]\n",
    "                \n",
    "                if ([0,0] in d):\n",
    "                    \n",
    "                    \n",
    "                    if([1,0] in d):\n",
    "                        index1 = d.index([0,0])\n",
    "                        value1[age,n,0:(index1-1),i,j] = value1[age,n,index1,i,j]\n",
    "                        value2[age,n,0:(index1-1),i,j] = value2[age,n,index1,i,j]\n",
    "                    if([0,1] in d):\n",
    "                        index2 = d.index([0,1])\n",
    "                        value1[age,n,(index2):,i,j] = value1[age,n,index2-1,i,j]\n",
    "                        value2[age,n,(index2):,i,j] = value2[age,n,index2-1,i,j]\n",
    "                                \n",
    "                else:\n",
    "                    value1[age,n,:,i,j] = v_single(y[i],a/2)\n",
    "                    value2[age,n,:,i,j] = v_single(y[j],a/2)\n",
    "                \n",
    "                        \n",
    "                   \n",
    "                        "
   ]
  },
  {
   "cell_type": "code",
   "execution_count": 167,
   "metadata": {},
   "outputs": [],
   "source": [
    "c1_LC = np.copy(c1)\n",
    "c2_LC = np.copy(c2)\n",
    "value1_LC = np.copy(value1)\n",
    "value2_LC = np.copy(value2)"
   ]
  },
  {
   "cell_type": "code",
   "execution_count": null,
   "metadata": {},
   "outputs": [],
   "source": []
  },
  {
   "cell_type": "markdown",
   "metadata": {},
   "source": [
    "## (b) Full commitment "
   ]
  },
  {
   "cell_type": "markdown",
   "metadata": {},
   "source": [
    "Similar to the limited consumption case, full commitment consumption and value is computed backward by the value function iteration. "
   ]
  },
  {
   "cell_type": "code",
   "execution_count": 168,
   "metadata": {},
   "outputs": [],
   "source": [
    "# last period\n",
    "age = T-1\n",
    "c1_FC = np.zeros((T,N_ass,N_θ,N_inc,N_inc))\n",
    "c2_FC = np.zeros((T,N_ass,N_θ,N_inc,N_inc))\n",
    "v1_FC = np.zeros((T,N_ass,N_θ,N_inc,N_inc))\n",
    "v2_FC = np.zeros((T,N_ass,N_θ,N_inc,N_inc))\n",
    "for n in range(N_ass):\n",
    "    for m in range(N_θ):\n",
    "        for i in range(N_inc):\n",
    "            for j in range(N_inc):\n",
    "                a = grid_ass[age,n]\n",
    "                θ = grid_θ[m]\n",
    "                y1 = y[i]\n",
    "                y2 = y[j]\n",
    "                ubar = a*R+y1+y2\n",
    "                result = minimize_scalar(lambda c: - (θ*utility(c) + (1-θ)*utility(a*R+y1+y2-c)), bounds=(minCons,ubar),method='bounded')\n",
    "                c1_FC[T-1,n,m,i,j] = result.x\n",
    "                c2_FC[T-1,n,m,i,j] = a*R + y1 + y2 - c1_FC[T-1,n,m,i,j]\n",
    "                v1_FC[T-1,n,m,i,j] = utility(c1_FC[T-1,n,m,i,j])\n",
    "                v2_FC[T-1,n,m,i,j] = utility(c2_FC[T-1,n,m,i,j])"
   ]
  },
  {
   "cell_type": "code",
   "execution_count": 169,
   "metadata": {},
   "outputs": [],
   "source": [
    "value1_FC = np.zeros((T,N_ass,N_θ,N_inc,N_inc))\n",
    "value2_FC = np.zeros((T,N_ass,N_θ,N_inc,N_inc))\n",
    "value1_FC[T-1] = v1_FC[T-1]\n",
    "value2_FC[T-1] = v2_FC[T-1]"
   ]
  },
  {
   "cell_type": "code",
   "execution_count": 170,
   "metadata": {},
   "outputs": [],
   "source": [
    "for t in range(T-1):\n",
    "    age = T-t-2\n",
    "    v_single = interp2d(y,a_grid_inter[age,:],v_divor[age,:,:])\n",
    "    \n",
    "    points = (grid_ass[t+1],grid_θ,y,y)\n",
    "    g1 = RegularGridInterpolator((points),value1_FC[age+1,:,:,:,:],method='linear',bounds_error=False,fill_value=None)\n",
    "    g2 = RegularGridInterpolator((points),value2_FC[age+1,:,:,:,:],method='linear',bounds_error=False,fill_value=None)\n",
    "    \n",
    "    for n in range(N_ass):\n",
    "        \n",
    "        for i in range(N_inc):\n",
    "            for j in range(N_inc):\n",
    "                \n",
    "                \n",
    "                \n",
    "                bind1 = np.zeros(N_θ)\n",
    "                bind2 = np.zeros(N_θ)\n",
    "                d = [0]*N_θ\n",
    "                \n",
    "                for m in range(N_θ):\n",
    "                    # print('This is the loop at age {}, asset grid {}, income ({},{}), θ({})'.format(age, n, i, j, m))\n",
    "                    a = grid_ass[age,n]\n",
    "                    θ = grid_θ[m]\n",
    "                    ub = R*a + y[i] + y[j] + 2*y[0]*(1-1/(R)**(T-age))/r\n",
    "                    constr = lambda x: ub - x[0] - x[1]\n",
    "                    f = lambda c: - (θ*Value(c[0],c[1])[0] + (1-θ)*Value(c[0],c[1])[1])\n",
    "                    # f = lambda c: - (θ*Value(c[0],c[1],a,θ,i,j,age)[0] + (1-θ)*Value(c[0],c[1],a,θ,i,j,age)[1])\n",
    "                    initial_guess = [(minCons+ub)*θ,(minCons+ub)*(1-θ)]\n",
    "                    result = optimize.minimize(f,initial_guess, constraints={'fun':constr,'type':'ineq'}, bounds=((minCons,ub),(minCons,ub)))\n",
    "                    c1_FC[age,n,m,i,j], c2_FC[age,n,m,i,j] = result.x[0], result.x[1]\n",
    "                    value1_FC[age,n,m,i,j],value2_FC[age,n,m,i,j] = Value(c1_FC[age,n,m,i,j],c2_FC[age,n,m,i,j])[0],Value(c1_FC[age,n,m,i,j],c2_FC[age,n,m,i,j])[1]\n",
    "                    #value1[age,n,m,i,j],value2[age,n,m,i,j] = Value(c1[age,n,m,i,j],c2[age,n,m,i,j],a,θ,y[i],y[j],age)[0],Value(c1[age,n,m,i,j],c2[age,n,m,i,j],a,θ,y[i],y[j],age)[1]\n"
   ]
  },
  {
   "cell_type": "code",
   "execution_count": 171,
   "metadata": {},
   "outputs": [],
   "source": [
    "c1_FC_copy = np.copy(c1_FC)\n",
    "c2_FC_copy = np.copy(c2_FC)\n",
    "value1_FC_copy = np.copy(value1_FC)\n",
    "value2_FC_copy = np.copy(value2_FC)"
   ]
  },
  {
   "cell_type": "code",
   "execution_count": null,
   "metadata": {},
   "outputs": [],
   "source": []
  },
  {
   "cell_type": "markdown",
   "metadata": {},
   "source": [
    "## (c) Simulation"
   ]
  },
  {
   "cell_type": "markdown",
   "metadata": {},
   "source": [
    "First, generate two people's life long income profiles. "
   ]
  },
  {
   "cell_type": "code",
   "execution_count": 181,
   "metadata": {},
   "outputs": [],
   "source": [
    "np.random.seed(20200202)\n",
    "num_ind = 1000\n",
    "state1 = np.zeros((num_ind,T))\n",
    "state2= np.zeros((num_ind,T))\n",
    "\n",
    "for i in range(num_ind):\n",
    "    state1[i,0] = np.random.choice(range(N_inc), 1, replace = True, p=[0.2,0.2,0.2,0.2,0.2])\n",
    "    state2[i,0] = np.random.choice(range(N_inc), 1, replace = True, p=[0.2,0.2,0.2,0.2,0.2])\n",
    "    for t in range(1,T):\n",
    "        p1=[]\n",
    "        p2=[]\n",
    "        for j in range(N_inc):\n",
    "            p1.append(prob[int(state1[i,t-1]),j])  #int is to convert the float to integer\n",
    "            p2.append(prob[int(state2[i,t-1]),j])\n",
    "            \n",
    "        state1[i,t] = np.random.choice(range(N_inc),1,replace=True,p=p1)\n",
    "        state2[i,t] = np.random.choice(range(N_inc),1,replace=True,p=p2)"
   ]
  },
  {
   "cell_type": "code",
   "execution_count": 182,
   "metadata": {},
   "outputs": [],
   "source": [
    "# initialize to zeros\n",
    "cons1 = np.zeros([num_ind,T])\n",
    "cons2 = np.zeros([num_ind,T])\n",
    "a1 = np.zeros([num_ind,T])\n",
    "y1_t = np.zeros([num_ind,T])\n",
    "y2_t = np.zeros([num_ind,T])\n",
    "θ0 = 0.3"
   ]
  },
  {
   "cell_type": "markdown",
   "metadata": {},
   "source": [
    "### Full commitment "
   ]
  },
  {
   "cell_type": "code",
   "execution_count": 187,
   "metadata": {},
   "outputs": [],
   "source": [
    "for t in range(T):\n",
    "    \n",
    "    points = (grid_ass[t],grid_θ,y,y)\n",
    "    consumption1 = RegularGridInterpolator((points),c1_FC[t,:,:,:,:],method='linear',bounds_error=False,fill_value=None)\n",
    "    consumption2 = RegularGridInterpolator((points),c2_FC[t,:,:,:,:],method='linear',bounds_error=False,fill_value=None)\n",
    "    for i in range(num_ind):\n",
    "        index1 = int(state1[i,t])\n",
    "        index2 = int(state2[i,t])\n",
    "        y1_t[i,t] = y[index1]\n",
    "        y2_t[i,t] = y[index2]\n",
    "        if t==0:\n",
    "            cons1[i,t] = consumption1((a0,θ0,y1_t[i,t],y2_t[i,t]))\n",
    "            cons2[i,t] = consumption2((a0,θ0,y1_t[i,t],y2_t[i,t]))\n",
    "            a1[i,t] = (a0 + y1_t[i,t] + y2_t[i,t] - cons1[i,t] - cons2[i,t])*R\n",
    "        else: \n",
    "            cons1[i,t] = consumption1((a1[i,t-1],θ0,y1_t[i,t],y2_t[i,t]))\n",
    "            cons2[i,t] = consumption2((a1[i,t-1],θ0,y1_t[i,t],y2_t[i,t]))\n",
    "            a1[i,t] = (a1[i,t-1] + y1_t[i,t] + y2_t[i,t] - cons1[i,t] - cons2[i,t])*R\n",
    "            "
   ]
  },
  {
   "cell_type": "code",
   "execution_count": 188,
   "metadata": {},
   "outputs": [],
   "source": [
    "c1_mean = np.zeros(T)\n",
    "c2_mean = np.zeros(T)\n",
    "a_mean = np.zeros(T)\n",
    "for t in range(T):\n",
    "    c1_mean[t] = np.average(cons1[:,t])\n",
    "    c2_mean[t] = np.average(cons2[:,t])\n",
    "    a_mean[t] = np.average(a1[:,t])"
   ]
  },
  {
   "cell_type": "code",
   "execution_count": 189,
   "metadata": {},
   "outputs": [
    {
     "data": {
      "text/plain": [
       "<matplotlib.legend.Legend at 0x20cdde74908>"
      ]
     },
     "execution_count": 189,
     "metadata": {},
     "output_type": "execute_result"
    },
    {
     "data": {
      "image/png": "[encoded data removed]",
      "text/plain": [
       "<Figure size 576x360 with 1 Axes>"
      ]
     },
     "metadata": {
      "needs_background": "light"
     },
     "output_type": "display_data"
    }
   ],
   "source": [
    "figure, axes = plt.subplots(figsize=(8,5)) \n",
    "axes.scatter(range(T),c1_mean, label='mean consumption1')\n",
    "axes.scatter(range(T),c2_mean, label='mean consumption2')\n",
    "axes.scatter(range(T),a_mean, label='mean asset')\n",
    "axes.set_title('Life Cycle Consumption and Wealth_ FULL CONMMITMENT')\n",
    "axes.legend()"
   ]
  },
  {
   "cell_type": "markdown",
   "metadata": {},
   "source": []
  },
  {
   "cell_type": "markdown",
   "metadata": {},
   "source": [
    "### Limited commitment"
   ]
  },
  {
   "cell_type": "code",
   "execution_count": 196,
   "metadata": {},
   "outputs": [],
   "source": [
    "# initialize to zeros\n",
    "cons1_LC = np.zeros([num_ind,T])\n",
    "cons2_LC = np.zeros([num_ind,T])\n",
    "val1_LC = np.zeros([num_ind,T])\n",
    "val2_LC = np.zeros([num_ind,T])\n",
    "θ = np.zeros([num_ind,T])\n",
    "\n",
    "a1_LC = np.zeros([num_ind,T])\n",
    "y1_t_LC = np.zeros([num_ind,T])\n",
    "y2_t_LC = np.zeros([num_ind,T])\n",
    "θ0 = 0.3"
   ]
  },
  {
   "cell_type": "code",
   "execution_count": 197,
   "metadata": {},
   "outputs": [],
   "source": [
    "for t in range(T):\n",
    "    \n",
    "    v_single = interp2d(y,a_grid_inter[t,:],v_divor[t,:,:])\n",
    "    \n",
    "    points = (grid_ass[t],grid_θ,y,y)\n",
    "    consumption1 = RegularGridInterpolator((points),c1_LC[t,:,:,:,:],method='linear',bounds_error=False,fill_value=None)\n",
    "    consumption2 = RegularGridInterpolator((points),c2_LC[t,:,:,:,:],method='linear',bounds_error=False,fill_value=None)\n",
    "    value_1 = RegularGridInterpolator((points),value1_LC[t,:,:,:,:],method='linear',bounds_error=False,fill_value=None)\n",
    "    value_2 = RegularGridInterpolator((points),value2_LC[t,:,:,:,:],method='linear',bounds_error=False,fill_value=None)\n",
    "    \n",
    "    for i in range(num_ind):\n",
    "        index1 = int(state1[i,t])\n",
    "        index2 = int(state2[i,t])\n",
    "        y1_t_LC[i,t] = y[index1]\n",
    "        y2_t_LC[i,t] = y[index2]\n",
    "        \n",
    "        if t==0:\n",
    "                \n",
    "            points = (a0,θ0,y1_t_LC[i,t],y2_t_LC[i,t])\n",
    "            val1_LC[i,t] = value_1(points)\n",
    "            val2_LC[i,t] = value_2(points)\n",
    "            v1_single = v_single(y1_t_LC[i,t],a0/2)\n",
    "            v2_single = v_single(y2_t_LC[i,t],a0/2)\n",
    "            bind1 = val1_LC[i,t] < v1_single\n",
    "            bind2 = val2_LC[i,t] < v2_single\n",
    "            θ[i,t] = θ0\n",
    "            \n",
    "            if bind1 ==1 and bind2 == 0 :\n",
    "                for k in range(7):\n",
    "                    points = (a0,θ0+0.1,y1_t_LC[i,t],y2_t_LC[i,t])\n",
    "                    val1_LC[i,t] = value_1(points)\n",
    "                    val2_LC[i,t] = value_2(points)\n",
    "                    θ0 = θ0+0.1\n",
    "                    if val1_LC[i,t] == 0 and val2_LC[i,t] == 0: \n",
    "                        θ[i,t] = θ0\n",
    "                        break\n",
    "                        \n",
    "            cons1_LC[i,t] = consumption1((a0,θ[i,t],y1_t[i,t],y2_t[i,t]))\n",
    "            cons2_LC[i,t] = consumption2((a0,θ[i,t],y1_t[i,t],y2_t[i,t]))\n",
    "            a1_LC[i,t] = (a0 + y1_t_LC[i,t] + y2_t_LC[i,t] - cons1_LC[i,t] - cons2_LC[i,t])*R\n",
    "                    \n",
    "            \n",
    "        else: \n",
    "            points = (a1[i,t-1],θ[i,t-1],y1_t_LC[i,t],y2_t_LC[i,t])\n",
    "            val1_LC[i,t] = value_1(points)\n",
    "            val2_LC[i,t] = value_2(points)\n",
    "            v1_single = v_single(y1_t_LC[i,t],a0/2)\n",
    "            v2_single = v_single(y2_t_LC[i,t],a0/2)\n",
    "            bind1 = val1_LC[i,t] < v1_single\n",
    "            bind2 = val2_LC[i,t] < v2_single\n",
    "            \n",
    "            if bind1 == 0 and bind2 == 0 :\n",
    "                θ[i,t] = θ[i,t-1]\n",
    "                \n",
    "            elif bind1 == 1 and bind2 == 0 :\n",
    "                θ_temp = θ[i,t-1]\n",
    "                while (θ_temp < 1):\n",
    "                    points = (a1_LC[i,t-1],θ_temp+0.1,y1_t_LC[i,t],y2_t_LC[i,t])\n",
    "                    val1_LC[i,t] = value_1(points)\n",
    "                    val2_LC[i,t] = value_2(points)\n",
    "                    θ_temp = θ_temp + 0.1\n",
    "                    if val1_LC[i,t] == 0 and val2_LC[i,t] == 0:\n",
    "                        θ[i,t] = θ_temp\n",
    "                break\n",
    "                \n",
    "            elif bind1 == 0 and bind2 == 1:\n",
    "                θ_temp = θ[i,t-1]\n",
    "                while (θ_temp > 0):\n",
    "                    points = (a1_LC[i,t-1],θ_temp - 0.1, y1_t_LC[i,t], y2_t_LC[i,t])\n",
    "                    val1_LC[i,t] = value_1(points)\n",
    "                    val2_LC[i,t] = value_2(points)\n",
    "                    θ_temp = θ_temp - 0.1\n",
    "                    if val1_LC[i,t] == 0 and val2_LC[i,t] == 0: \n",
    "                        θ[i,t] = θ_temp\n",
    "                break\n",
    "                \n",
    "            cons1_LC[i,t] = consumption1((a1_LC[i,t-1],θ[i,t],y1_t_LC[i,t],y2_t_LC[i,t]))\n",
    "            cons2_LC[i,t] = consumption2((a1_LC[i,t-1],θ[i,t],y1_t_LC[i,t],y2_t_LC[i,t]))\n",
    "            a1_LC[i,t] = (a1_LC[i,t-1] + y1_t_LC[i,t] + y2_t_LC[i,t] - cons1_LC[i,t] - cons2_LC[i,t])*R\n",
    "            "
   ]
  },
  {
   "cell_type": "code",
   "execution_count": 194,
   "metadata": {},
   "outputs": [],
   "source": [
    "c1_LC_mean = np.zeros(T)\n",
    "c2_LC_mean = np.zeros(T)\n",
    "a_LC_mean = np.zeros(T)\n",
    "for t in range(T):\n",
    "    c1_LC_mean[t] = np.average(cons1_LC[:,t])\n",
    "    c2_LC_mean[t] = np.average(cons2_LC[:,t])\n",
    "    a_LC_mean[t] = np.average(a1_LC[:,t])"
   ]
  },
  {
   "cell_type": "code",
   "execution_count": 201,
   "metadata": {},
   "outputs": [
    {
     "data": {
      "text/plain": [
       "<matplotlib.legend.Legend at 0x20cdf05af28>"
      ]
     },
     "execution_count": 201,
     "metadata": {},
     "output_type": "execute_result"
    },
    {
     "data": {
      "image/png": "[encoded data removed]",
      "text/plain": [
       "<Figure size 576x360 with 1 Axes>"
      ]
     },
     "metadata": {
      "needs_background": "light"
     },
     "output_type": "display_data"
    }
   ],
   "source": [
    "figure, axes = plt.subplots(figsize=(8,5)) \n",
    "axes.scatter(range(T),c1_LC_mean, label='mean consumption1')\n",
    "axes.scatter(range(T),c2_LC_mean, label='mean consumption2')\n",
    "axes.scatter(range(T),a_LC_mean, label='mean asset')\n",
    "axes.set_title('Life Cycle Consumption_ LIMITED CONMMITMENT')\n",
    "axes.legend()"
   ]
  },
  {
   "cell_type": "markdown",
   "metadata": {},
   "source": [
    "In both cases, consumption of spouse member 1 is smaller than the consumption of spouse member 2. This is due to the relative small weight of spouse member 1. \n",
    "\n",
    "In the full commitment case, the difference between spouses is kind of stable over time, while in the limited commitment case, the difference changes over time. I think this makes sense since the bargaining power in the full commitment case does not change, so the relative consumption of each spouse should not change much over the life cycle. However, since the bargaining power may change, so the consumption allocation between spouses are varying over time. "
   ]
  },
  {
   "cell_type": "markdown",
   "metadata": {},
   "source": [
    "## (d) Variance"
   ]
  },
  {
   "cell_type": "markdown",
   "metadata": {},
   "source": [
    "### Limited commitment"
   ]
  },
  {
   "cell_type": "code",
   "execution_count": 213,
   "metadata": {},
   "outputs": [
    {
     "data": {
      "text/plain": [
       "<matplotlib.legend.Legend at 0x20cdd788438>"
      ]
     },
     "execution_count": 213,
     "metadata": {},
     "output_type": "execute_result"
    },
    {
     "data": {
      "image/png": "[encoded data removed]",
      "text/plain": [
       "<Figure size 576x360 with 1 Axes>"
      ]
     },
     "metadata": {
      "needs_background": "light"
     },
     "output_type": "display_data"
    }
   ],
   "source": [
    "var_c1_LC = np.std(cons1_LC,axis=0)\n",
    "var_c2_LC = np.std(cons2_LC,axis=0)\n",
    "\n",
    "figure, axes = plt.subplots(figsize=(8,5)) \n",
    "axes.scatter(range(T),var_c1_LC, label='Standard deviation of consumption1')\n",
    "axes.scatter(range(T),var_c2_LC, label='Standard deviation of consumption2')\n",
    "\n",
    "axes.set_title('Standard deviation of Consumption_ LIMITED COMMITMENT')\n",
    "axes.legend()"
   ]
  },
  {
   "cell_type": "markdown",
   "metadata": {},
   "source": [
    "### Full commitment"
   ]
  },
  {
   "cell_type": "code",
   "execution_count": 212,
   "metadata": {},
   "outputs": [
    {
     "data": {
      "text/plain": [
       "<matplotlib.legend.Legend at 0x20cdf0a8470>"
      ]
     },
     "execution_count": 212,
     "metadata": {},
     "output_type": "execute_result"
    },
    {
     "data": {
      "image/png": "[encoded data removed]",
      "text/plain": [
       "<Figure size 576x360 with 1 Axes>"
      ]
     },
     "metadata": {
      "needs_background": "light"
     },
     "output_type": "display_data"
    }
   ],
   "source": [
    "var_c1 = np.std(cons1,axis=0)\n",
    "var_c2 = np.std(cons2,axis=0)\n",
    "\n",
    "figure, axes = plt.subplots(figsize=(8,5)) \n",
    "axes.scatter(range(T),var_c1, label='Standard deviation of consumption1')\n",
    "axes.scatter(range(T),var_c2, label='Standard deviation of consumption2')\n",
    "\n",
    "axes.set_title('Standard deviation of Consumption_ FULL CONMMITMENT')\n",
    "axes.legend()"
   ]
  },
  {
   "cell_type": "markdown",
   "metadata": {},
   "source": [
    "The variance in the full commitment case is stable during the first a few periods, but the variance is getting larger and larger in the limited commitment case. I think this is because, in the full commitment case, the bargaining power is pareto weight 0.3 for all spouse member 1, the consumption are similar among all couples, so the variance is small. \n",
    "\n",
    "In the limited commitment case, the bargaining power changes when the participation constraint binds. So the bargaining powers are quite different among all couples. And the difference is accumulated over time. This explains the increasing variance of consumption under the limited commitment case. \n",
    "\n",
    "In a word, the variance in the full commitment case stems from the random shocks of income, whereas in the limited commitment case, the variance comes from bothe random shocks of income and the differences of weights among couples. So the variance in the limited commitment case is larger than that in the full commitment case. "
   ]
  },
  {
   "cell_type": "code",
   "execution_count": null,
   "metadata": {},
   "outputs": [],
   "source": []
  }
 ],
 "metadata": {
  "kernelspec": {
   "display_name": "Python 3",
   "language": "python",
   "name": "python3"
  },
  "language_info": {
   "codemirror_mode": {
    "name": "ipython",
    "version": 3
   },
   "file_extension": ".py",
   "mimetype": "text/x-python",
   "name": "python",
   "nbconvert_exporter": "python",
   "pygments_lexer": "ipython3",
   "version": "3.7.3"
  }
 },
 "nbformat": 4,
 "nbformat_minor": 4
}
