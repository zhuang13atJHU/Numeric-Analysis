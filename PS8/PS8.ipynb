{
 "cells": [
  {
   "cell_type": "markdown",
   "metadata": {},
   "source": [
    "# Problem Set 8"
   ]
  },
  {
   "cell_type": "markdown",
   "metadata": {},
   "source": [
    "This problem set solves a matching problem in a marriage market. "
   ]
  },
  {
   "cell_type": "markdown",
   "metadata": {},
   "source": [
    "## Q1"
   ]
  },
  {
   "cell_type": "markdown",
   "metadata": {},
   "source": [
    "\\begin{align}\n",
    "&E[\\max \\{\\log(y+w_i) - \\beta + \\epsilon_1, \\log(y)+ \\epsilon_0 \\}] \\\\\n",
    "&=\\sigma_\\epsilon E[\\max \\{\\dfrac{\\log(y+w_i) - \\beta + \\epsilon_1}{\\sigma_\\epsilon} ,  \\dfrac{\\log(y)+ \\epsilon_0}{\\sigma_\\epsilon} \\}] \\\\\n",
    "&= \\sigma_\\epsilon \\ln[\\dfrac{\\log(y+w_i)-\\beta}{\\sigma_\\epsilon} + \\dfrac{\\log(y)}{\\sigma_\\epsilon}] + \\sigma_\\epsilon \\gamma\n",
    "\\end{align}"
   ]
  },
  {
   "cell_type": "markdown",
   "metadata": {},
   "source": [
    "# Q2"
   ]
  },
  {
   "cell_type": "markdown",
   "metadata": {},
   "source": [
    "### (a) Determin $s_{ij}$\n",
    "\n",
    "Derive first order condition: \n",
    "\n",
    "\\begin{align}\n",
    "\\lambda_{ij}\\dfrac{1}{s_{ij} c} c + (1-\\lambda_{ij}) \\dfrac{1}{(1-s_{ij}) c} (-c) = 0\n",
    "\\end{align}\n",
    "\n",
    "which gives us:\n",
    "\\begin{align}\n",
    "s_{ij} = \\lambda_{ij}\n",
    "\\end{align}"
   ]
  },
  {
   "cell_type": "markdown",
   "metadata": {},
   "source": [
    "### (b) Expected utility of a type-i man in a type-ij marriage\n",
    "\n",
    "Let $(x,y)$ denotes the employment status of the two spouses $(P_i,P_j)$, the first number represents man's employment, while the latter number is for women's. Then there are four cases of the man's utility:\n",
    "* (0,0): $U = \\log(2s_{ij}y) + \\epsilon_{0,0}$\n",
    "* (0,1): $U = \\log(s_{ij}(2y+w_j)) + \\epsilon_{0,1}$\n",
    "* (1,0): $U = \\log(s_{ij}(2y+w_i)) -\\beta + \\epsilon_{1,0}$\n",
    "* (1,1): $U = \\log(s_{ij}(2y+w_i+w_j)) - \\beta + \\epsilon_{1,1}$\n",
    "\n",
    "Therefore, the expected utility is:\n",
    "\\begin{align}\n",
    "\\sigma_\\epsilon\\ln\\left(exp(\\dfrac{\\log(2s_{ij}y)}{\\sigma_\\epsilon}) + exp(\\dfrac{\\log(s_{ij}(2y+w_i))}{\\sigma_\\epsilon}) + exp(\\dfrac{\\log(s_{ij}(2y+w_j))-\\beta}{\\sigma_\\epsilon}) + exp(\\dfrac{\\log(s_{ij}(2y+w_i+w_j))-\\beta}{\\sigma_\\epsilon}) \\right)  + \\sigma_\\epsilon \\gamma\n",
    "\\end{align}"
   ]
  },
  {
   "cell_type": "markdown",
   "metadata": {},
   "source": [
    "## Q3"
   ]
  },
  {
   "cell_type": "code",
   "execution_count": 30,
   "metadata": {},
   "outputs": [],
   "source": [
    "import numpy as np\n",
    "from scipy import optimize\n",
    "from scipy.optimize import brentq,fsolve\n"
   ]
  },
  {
   "cell_type": "code",
   "execution_count": 31,
   "metadata": {},
   "outputs": [],
   "source": [
    "β = 0.8\n",
    "σ_ϵ = 0.4\n",
    "σ_θ = 0.7\n",
    "γ = 0.5772\n",
    "y = 1\n",
    "w = np.array([1,2,3])"
   ]
  },
  {
   "cell_type": "code",
   "execution_count": 52,
   "metadata": {},
   "outputs": [],
   "source": [
    "def prob_d(i,j,weight_matrix,τ):\n",
    "    s_ij = weight_matrix[i,j]\n",
    "    v_ij = σ_ϵ*(np.log(np.exp(np.log(2*s_ij*y)/σ_ϵ) + np.exp(np.log(s_ij*(2*y+w[i]))/σ_ϵ) + np.exp((np.log(s_ij*(2*y+w[j]))-β)/σ_ϵ) + np.exp((np.log(s_ij*(2*y+w[i]+w[j]))-β)/σ_ϵ) ) ) + σ_ϵ*γ\n",
    "    den = np.exp(v_ij/σ_θ)\n",
    "    num_temp = σ_ϵ*(np.log(np.exp((np.log(y+w[i]*(1-τ))-β)/σ_ϵ) + np.exp(np.log(y)/σ_ϵ))) + σ_ϵ*γ\n",
    "    num = np.exp(num_temp/σ_θ)\n",
    "    for j in range(3):\n",
    "        s_ij = weight_matrix[i,j]\n",
    "        v_j = σ_ϵ*(np.log(np.exp(np.log(2*s_ij*y)/σ_ϵ) + np.exp(np.log(s_ij*(2*y+w[i]))/σ_ϵ) + np.exp((np.log(s_ij*(2*y+w[j]))-β)/σ_ϵ) + np.exp((np.log(s_ij*(2*y+w[i]+w[j]))-β)/σ_ϵ) ) ) + σ_ϵ*γ\n",
    "        numerator = np.exp(v_j/σ_θ)\n",
    "        num = num + numerator\n",
    "    return den/num"
   ]
  },
  {
   "cell_type": "code",
   "execution_count": 53,
   "metadata": {},
   "outputs": [],
   "source": [
    "def prob_s(i,j,weight_matrix,τ):\n",
    "    s_ij = 1 - weight_matrix[i,j]\n",
    "    v_ji =  σ_ϵ*(np.log(np.exp(np.log(2*s_ij*y)/σ_ϵ) + np.exp(np.log(s_ij*(2*y+w[j]))/σ_ϵ) + np.exp((np.log(s_ij*(2*y+w[i]))-β)/σ_ϵ) + np.exp((np.log(s_ij*(2*y+w[j]+w[i]))-β)/σ_ϵ) ) ) + σ_ϵ*γ\n",
    "    den = np.exp(v_ji/σ_θ)\n",
    "    num_temp = σ_ϵ*(np.log(np.exp((np.log(y+w[j]*(1-τ))-β)/σ_ϵ) + np.exp(np.log(y)/σ_ϵ))) + σ_ϵ*γ\n",
    "    num = np.exp(num_temp/σ_θ)\n",
    "    for i in range(3):\n",
    "        s_ij = 1 - weight_matrix[i,j]\n",
    "        v_i = σ_ϵ*(np.log(np.exp(np.log(2*s_ij*y)/σ_ϵ) + np.exp(np.log(s_ij*(2*y+w[i]))/σ_ϵ) + np.exp((np.log(s_ij*(2*y+w[j]))-β)/σ_ϵ) + np.exp((np.log(s_ij*(2*y+w[i]+w[j]))-β)/σ_ϵ) ) ) + σ_ϵ*γ\n",
    "        numerator =  np.exp(v_i/σ_θ)\n",
    "        num = num + numerator\n",
    "    return den/num"
   ]
  },
  {
   "cell_type": "code",
   "execution_count": 54,
   "metadata": {},
   "outputs": [],
   "source": [
    "\n",
    "g = np.zeros([9])\n",
    "τ = 0\n",
    "\n",
    "def f(vector):\n",
    "    λ = vector.reshape(3,3)\n",
    "    n = 0\n",
    "    for i in range(3):\n",
    "        for j in range(3):\n",
    "            g[n] = prob_d(i,j,λ,τ) - prob_s(i,j,λ,τ)\n",
    "            n = n+1\n",
    "    return g"
   ]
  },
  {
   "cell_type": "code",
   "execution_count": 57,
   "metadata": {},
   "outputs": [
    {
     "name": "stderr",
     "output_type": "stream",
     "text": [
      "C:\\Users\\zhuang13\\Anaconda3\\lib\\site-packages\\ipykernel_launcher.py:3: RuntimeWarning: invalid value encountered in log\n",
      "  This is separate from the ipykernel package so we can avoid doing imports until\n",
      "C:\\Users\\zhuang13\\Anaconda3\\lib\\site-packages\\ipykernel_launcher.py:9: RuntimeWarning: invalid value encountered in log\n",
      "  if __name__ == '__main__':\n"
     ]
    }
   ],
   "source": [
    "weight = fsolve(f,(np.zeros([9])+0.2)).reshape(3,3)"
   ]
  },
  {
   "cell_type": "code",
   "execution_count": 58,
   "metadata": {},
   "outputs": [
    {
     "data": {
      "text/plain": [
       "array([[0.2, 0.2, 0.2],\n",
       "       [0.2, 0.2, 0.2],\n",
       "       [0.2, 0.2, 0.2]])"
      ]
     },
     "execution_count": 58,
     "metadata": {},
     "output_type": "execute_result"
    }
   ],
   "source": [
    "weight"
   ]
  },
  {
   "cell_type": "code",
   "execution_count": null,
   "metadata": {},
   "outputs": [],
   "source": []
  }
 ],
 "metadata": {
  "kernelspec": {
   "display_name": "Python 3",
   "language": "python",
   "name": "python3"
  },
  "language_info": {
   "codemirror_mode": {
    "name": "ipython",
    "version": 3
   },
   "file_extension": ".py",
   "mimetype": "text/x-python",
   "name": "python",
   "nbconvert_exporter": "python",
   "pygments_lexer": "ipython3",
   "version": "3.7.3"
  }
 },
 "nbformat": 4,
 "nbformat_minor": 4
}
